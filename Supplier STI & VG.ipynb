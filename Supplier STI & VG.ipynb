{
 "cells": [
  {
   "cell_type": "markdown",
   "metadata": {},
   "source": [
    "# Automating Price Updates\n",
    "- **Purpose of the Code**:\n",
    "    - The code generates a detailed file with information on product price changes.\n",
    "    - It indicates the warehouse where the modification occurred, the current price, and the previous price.\n",
    "\n",
    "- **Identifying Price Update Locations**:\n",
    "    - Identifies all possible combinations of warehouse locations and suppliers.\n",
    "    - Highlights locations where prices have been updated in the system.\n",
    "\n",
    "- **Data Processing**:\n",
    "    - Loads raw data from Excel files (new price files and system data).\n",
    "    - Cleans data by removing unnecessary characters and accents.\n",
    "    - Formats columns for data consistency and uniformity.\n",
    "\n",
    "- **Automatic Price Assignment**:\n",
    "    - Assigns new prices based on warehouse branches and predefined price maps.\n",
    "    - Verifies where actual changes have taken place.\n",
    "\n",
    "- **Combination Generation for Location Updates**:\n",
    "    - Automatically creates all possible combinations of warehouse locations and their updated prices.\n",
    "    - Eliminates the need for manual location search and assignment.\n",
    "\n",
    "- **Rounding and Filtering**:\n",
    "    - Automatically rounds prices to four decimal places, as required by the company’s system.\n",
    "    - Applies filters to the final data for easier review."
   ]
  },
  {
   "cell_type": "markdown",
   "metadata": {},
   "source": [
    "# STI supplier "
   ]
  },
  {
   "cell_type": "code",
   "execution_count": 4,
   "metadata": {},
   "outputs": [],
   "source": [
    "import pandas as pd\n",
    "import os\n",
    "from datetime import datetime\n",
    "import re\n",
    "import unicodedata"
   ]
  },
  {
   "cell_type": "code",
   "execution_count": 5,
   "metadata": {},
   "outputs": [],
   "source": [
    "# File paths\n",
    "BASE_FILE_PATH_STI = r'C:\\Users\\plmala\\OneDrive - Coloplast A S\\Desktop\\Python\\PPM\\Price Updates (Python)\\HUVIDE\\Project\\Raw data STI.xlsx'\n",
    "HUBBLE_DATA_PATH_STI = r'C:\\Users\\plmala\\OneDrive - Coloplast A S\\Desktop\\Python\\PPM\\Price Updates (Python)\\HUVIDE\\Project\\Hubble Data STI.xlsx'\n",
    "OUTPUT_DIRECTORY = r'C:\\Users\\plmala\\OneDrive - Coloplast A S\\Desktop\\Python\\PPM\\Price Updates (Python)\\HUVIDE\\Project\\New data'"
   ]
  },
  {
   "cell_type": "code",
   "execution_count": 6,
   "metadata": {},
   "outputs": [],
   "source": [
    "# Remove accents\n",
    "def remove_accents(input_str):\n",
    "    nfkd_form = unicodedata.normalize('NFD', input_str)\n",
    "    return ''.join([char for char in nfkd_form if not unicodedata.combining(char)])"
   ]
  },
  {
   "cell_type": "code",
   "execution_count": 7,
   "metadata": {},
   "outputs": [],
   "source": [
    "# Load Excel files\n",
    "def load_excel_files(base_file_path, hubble_data_path):\n",
    "    if not os.path.exists(base_file_path):\n",
    "        raise FileNotFoundError(f\"Base file not found: {base_file_path}\")\n",
    "    if not os.path.exists(hubble_data_path):\n",
    "        raise FileNotFoundError(f\"Hubble file not found: {hubble_data_path}\")\n",
    "    return pd.read_excel(base_file_path), pd.read_excel(hubble_data_path)"
   ]
  },
  {
   "cell_type": "code",
   "execution_count": 8,
   "metadata": {},
   "outputs": [],
   "source": [
    "# Rename columns\n",
    "def rename_columns(df, source_type):\n",
    "    df.columns = df.columns.str.strip().str.replace(r'[\\n\\r]+', ' ', regex=True)\n",
    "    df.columns = df.columns.map(remove_accents).str.replace(r'\\s+', ' ', regex=True)\n",
    "    columns_rename_map = {\n",
    "        'Item number': 'Item',\n",
    "        'DAP Price TAT': 'DAP Price TAT',\n",
    "        'DAP Price PDC': 'DAP Price PDC',\n",
    "        'DAP Price NYI': 'DAP Price NYI',\n",
    "        'DAP Price France': 'DAP Price France'\n",
    "    }\n",
    "    df.rename(columns={col: columns_rename_map[col] for col in df.columns if col in columns_rename_map}, inplace=True)"
   ]
  },
  {
   "cell_type": "code",
   "execution_count": 9,
   "metadata": {},
   "outputs": [],
   "source": [
    "# Keep specific columns\n",
    "def clean_columns(df):\n",
    "    return df[['Item', 'DAP Price TAT', 'DAP Price PDC', 'DAP Price NYI', 'DAP Price France']]\n",
    "# Prepare Hubble data\n",
    "def prepare_hubble_data(df):\n",
    "    expected_columns = [\n",
    "        '2ND ITEM NUMBER', 'DESCRIPTION', 'SUPPLIER NUMBER', 'SUPPLIER DESCRIPTION', 'AMOUNT - UNIT COST',\n",
    "        'BRANCH PLANT', 'CURRENCY CODE - FROM', 'UNIT OF MEASURE AS INPUT', 'QUANTITY BREAK',\n",
    "        'DATE - EFFECTIVE', 'DATE - EXPIRED', 'USER ID', 'DATE - UPDATED', 'IM BUYR NO.', 'IM BUYR'\n",
    "    ]\n",
    "    df.rename(columns=dict(zip(df.columns, expected_columns)), inplace=True)\n",
    "\n",
    "    if 'DATE - EXPIRED' not in df.columns:\n",
    "        df['DATE - EXPIRED'] = pd.NaT\n",
    "    df[['DATE - EFFECTIVE', 'DATE - EXPIRED']] = df[['DATE - EFFECTIVE', 'DATE - EXPIRED']].apply(pd.to_datetime, errors='coerce')\n",
    "    df['AMOUNT - UNIT COST'] = df['AMOUNT - UNIT COST'].apply(lambda x: float(re.findall(r\"[-+]?\\d*\\.\\d+|\\d+\", str(x))[0]) if re.findall(r\"[-+]?\\d*\\.\\d+|\\d+\", str(x)) else 0)\n",
    "    return df"
   ]
  },
  {
   "cell_type": "code",
   "execution_count": 10,
   "metadata": {},
   "outputs": [],
   "source": [
    "# Merge data\n",
    "def merge_data(base_df, hubble_df):\n",
    "    base_df['Item'] = base_df['Item'].astype(str).str.upper()\n",
    "    hubble_df['2ND ITEM NUMBER'] = hubble_df['2ND ITEM NUMBER'].astype(str).str.upper()\n",
    "    return pd.merge(base_df, hubble_df, left_on='Item', right_on='2ND ITEM NUMBER', how='left')"
   ]
  },
  {
   "cell_type": "code",
   "execution_count": 11,
   "metadata": {},
   "outputs": [],
   "source": [
    "# Calculate new price\n",
    "def get_new_price(row, branch_map):\n",
    "    plant = str(row['BRANCH PLANT'])\n",
    "    for price_column, plants in branch_map.items():\n",
    "        if plant in plants and pd.notna(row[price_column]):\n",
    "            return row[price_column]\n",
    "    return None"
   ]
  },
  {
   "cell_type": "code",
   "execution_count": 12,
   "metadata": {},
   "outputs": [],
   "source": [
    "# Add new price column\n",
    "def add_new_price(df, branch_map):\n",
    "    df['New Price'] = df.apply(get_new_price, axis=1, branch_map=branch_map)\n",
    "    df['Not Updated on BPs'] = df.apply(lambda row: row['BRANCH PLANT'] if pd.isna(row['New Price']) else '', axis=1)\n",
    "    return df"
   ]
  },
  {
   "cell_type": "code",
   "execution_count": 13,
   "metadata": {},
   "outputs": [],
   "source": [
    "# Branch price mapping for STI\n",
    "def get_branch_price_map():\n",
    "    return {\n",
    "        'DAP Price TAT': ['490810', '490813', '490851'],\n",
    "        'DAP Price PDC': ['110816', '110858'],\n",
    "        'DAP Price NYI': ['490815', '490852'],\n",
    "        'DAP Price France': ['351810', '351650', '351866']\n",
    "    }"
   ]
  },
  {
   "cell_type": "code",
   "execution_count": 14,
   "metadata": {},
   "outputs": [],
   "source": [
    "# Handle duplicates\n",
    "def handle_duplicates(merged_df):\n",
    "    merged_df['DATE - EFFECTIVE'] = pd.to_datetime(merged_df['DATE - EFFECTIVE'], errors='coerce')\n",
    "    merged_df = merged_df.sort_values(by=['Item', 'SUPPLIER NUMBER', 'DATE - EFFECTIVE'], ascending=[True, True, False], na_position='last')\n",
    "    merged_df = merged_df.drop_duplicates(subset=['Item', 'SUPPLIER NUMBER', 'BRANCH PLANT'], keep='first')\n",
    "    updated_bps_series = merged_df.groupby(['Item', 'SUPPLIER NUMBER'])[['AMOUNT - UNIT COST', 'BRANCH PLANT']].apply(\n",
    "        lambda group: ', '.join(group.loc[group['AMOUNT - UNIT COST'] != 0, 'BRANCH PLANT'].dropna().astype(str).unique())\n",
    "    )\n",
    "    return merged_df, updated_bps_series.reset_index(name='Updated on BPs')"
   ]
  },
  {
   "cell_type": "code",
   "execution_count": 15,
   "metadata": {},
   "outputs": [],
   "source": [
    "# Split rows\n",
    "def split_and_expand_rows(grouped_df):\n",
    "    grouped_df['BRANCH PLANT'] = grouped_df['BRANCH PLANT'].astype(str)\n",
    "    grouped_df['Updated on BPs'] = grouped_df['Updated on BPs'].astype(str)\n",
    "\n",
    "    expanded_rows = []\n",
    "    for _, row in grouped_df.iterrows():\n",
    "        branch_plants = row['BRANCH PLANT'].split(', ')\n",
    "        updated_plants = row['Updated on BPs'].split(', ') if row['Updated on BPs'] else []\n",
    "        for plant in branch_plants:\n",
    "            temp_row = row.copy()\n",
    "            temp_row['BRANCH PLANT'] = plant\n",
    "            temp_row['Updated on BPs'] = plant if plant in updated_plants else ''\n",
    "            expanded_rows.append(temp_row)\n",
    "    return pd.DataFrame(expanded_rows)"
   ]
  },
  {
   "cell_type": "code",
   "execution_count": 16,
   "metadata": {},
   "outputs": [],
   "source": [
    "# Save to Excel and do the formatting\n",
    "def save_to_excel(final_df, output_path):\n",
    "    os.makedirs(os.path.dirname(output_path), exist_ok=True)\n",
    "    with pd.ExcelWriter(output_path, engine='xlsxwriter') as writer:\n",
    "        workbook = writer.book\n",
    "        sheet_name = datetime.now().strftime('%d-%m-%Y')\n",
    "        final_df.to_excel(writer, sheet_name=sheet_name, index=False, header=False, startrow=1)\n",
    "\n",
    "        worksheet = writer.sheets[sheet_name]\n",
    "        header_format = workbook.add_format({'bold': True, 'align': 'center', 'border': 1})\n",
    "        old_price_header_format = workbook.add_format({'bold': True, 'align': 'center', 'bg_color': '#FFCCCC', 'border': 1})\n",
    "        new_price_header_format = workbook.add_format({'bold': True, 'align': 'center', 'bg_color': '#CCFFCC', 'border': 1})\n",
    "        number_format = workbook.add_format({'num_format': '0.0000', 'align': 'center', 'border': 1})\n",
    "\n",
    "        for col_num, value in enumerate(final_df.columns):\n",
    "            if value == 'Old Price':\n",
    "                worksheet.write(0, col_num, value, old_price_header_format)\n",
    "                worksheet.set_column(col_num, col_num, 15, number_format)\n",
    "            elif value == 'New Price':\n",
    "                worksheet.write(0, col_num, value, new_price_header_format)\n",
    "                worksheet.set_column(col_num, col_num, 15, number_format)\n",
    "            else:\n",
    "                worksheet.write(0, col_num, value, header_format)\n",
    "                max_len = max(final_df[value].astype(str).map(len).max(), len(value)) + 2\n",
    "                worksheet.set_column(col_num, col_num, max_len, workbook.add_format({'align': 'center', 'border': 1}))\n",
    "\n",
    "        for row_num in range(1, len(final_df) + 1):\n",
    "            for col_num, value in enumerate(final_df.columns):\n",
    "                cell_value = final_df.iloc[row_num - 1, col_num]\n",
    "                if value in ['Old Price', 'New Price']:\n",
    "                    worksheet.write_number(row_num, col_num, cell_value, number_format)\n",
    "                else:\n",
    "                    worksheet.write(row_num, col_num, cell_value, workbook.add_format({'align': 'center', 'border': 1}))\n",
    "\n",
    "        worksheet.autofilter(0, 0, len(final_df), len(final_df.columns) - 1)"
   ]
  },
  {
   "cell_type": "code",
   "execution_count": 17,
   "metadata": {},
   "outputs": [
    {
     "name": "stdout",
     "output_type": "stream",
     "text": [
      "Data has been merged and saved to 'C:\\Users\\plmala\\OneDrive - Coloplast A S\\Desktop\\Python\\PPM\\Price Updates (Python)\\HUVIDE\\Project\\New data\\Updated_NewData_STI_2024-11-02_20-32-15.xlsx'\n"
     ]
    }
   ],
   "source": [
    "# Final execution\n",
    "try:\n",
    "    base_file_df, hubble_data_df = load_excel_files(BASE_FILE_PATH_STI, HUBBLE_DATA_PATH_STI)\n",
    "    rename_columns(base_file_df, 'STI')\n",
    "    base_file_df = clean_columns(base_file_df)\n",
    "    hubble_data_df = prepare_hubble_data(hubble_data_df)\n",
    "    merged_df = merge_data(base_file_df, hubble_data_df)\n",
    "\n",
    "    branch_price_map = get_branch_price_map()\n",
    "    merged_df = add_new_price(merged_df, branch_price_map)\n",
    "    merged_df, updated_bps_df = handle_duplicates(merged_df)\n",
    "\n",
    "    grouped_df = merged_df.merge(updated_bps_df, on=['Item', 'SUPPLIER NUMBER'], how='left').fillna('')\n",
    "    expanded_df = split_and_expand_rows(grouped_df)\n",
    "\n",
    "    expanded_df = expanded_df.rename(columns={\n",
    "        'Item': 'Item Number',\n",
    "        'AMOUNT - UNIT COST': 'Old Price',\n",
    "        'CURRENCY CODE - FROM': 'Currency',\n",
    "        'UNIT OF MEASURE AS INPUT': 'UoM'\n",
    "    })\n",
    "\n",
    "    expanded_df['Old Price'] = pd.to_numeric(expanded_df['Old Price'], errors='coerce').fillna(0)\n",
    "    expanded_df['New Price'] = pd.to_numeric(expanded_df['New Price'], errors='coerce').fillna(0)\n",
    "\n",
    "    final_df = expanded_df[['SUPPLIER DESCRIPTION', 'SUPPLIER NUMBER', 'Item Number', 'BRANCH PLANT',\n",
    "                            'UoM', 'Updated on BPs', 'New Price', 'Old Price', 'Currency']]\n",
    "\n",
    "    output_path = os.path.join(OUTPUT_DIRECTORY, f'Updated_NewData_STI_{datetime.now().strftime(\"%Y-%m-%d_%H-%M-%S\")}.xlsx')\n",
    "    save_to_excel(final_df, output_path)\n",
    "    print(f\"Data has been merged and saved to '{output_path}'\")\n",
    "\n",
    "except Exception as e:\n",
    "    print(f\"An error occurred: {e}\")"
   ]
  },
  {
   "cell_type": "markdown",
   "metadata": {},
   "source": [
    "# API Template for STI\n",
    "The code automates data preparation and insertion into a pre-existing Excel file (API Template) with detailed price change information, allowing easy data entry based on a specific effective date and main reasons for the price updates."
   ]
  },
  {
   "cell_type": "code",
   "execution_count": 16,
   "metadata": {},
   "outputs": [],
   "source": [
    "import pandas as pd\n",
    "import os\n",
    "from datetime import datetime"
   ]
  },
  {
   "cell_type": "code",
   "execution_count": 17,
   "metadata": {},
   "outputs": [],
   "source": [
    "# Column mapping\n",
    "column_mapping = {\n",
    "    'SUPPLIER DESCRIPTION': 'Supplier Name',\n",
    "    'SUPPLIER NUMBER': 'Supplier Number',\n",
    "    'Item Number': 'Item Number',\n",
    "    'New Price': 'New price',\n",
    "    'Currency': 'Item Price Currency',\n",
    "    'UoM': 'Unit of measure',\n",
    "    'BRANCH PLANT': 'Branch Plant'\n",
    "}"
   ]
  },
  {
   "cell_type": "code",
   "execution_count": 18,
   "metadata": {},
   "outputs": [],
   "source": [
    "# Ask for the Effective Date\n",
    "effective_date_str = input(\"Please enter the Effective date (DD.MM.YYYY): \")\n",
    "try:\n",
    "    if '.' in effective_date_str:\n",
    "        effective_date = datetime.strptime(effective_date_str, \"%d.%m.%Y\")\n",
    "except ValueError:\n",
    "    raise ValueError(\"Invalid date format. Please use DD.MM.YYYY format\")"
   ]
  },
  {
   "cell_type": "code",
   "execution_count": 19,
   "metadata": {},
   "outputs": [],
   "source": [
    "# Ask for Main Reasons and weights\n",
    "main_reasons = []\n",
    "weights = []\n",
    "for i in range(1, 4):\n",
    "    reason = input(f\"Enter Main Reason {i} (or press Enter to skip): \").strip()\n",
    "    if reason:\n",
    "        main_reasons.append(reason)\n",
    "        if len(main_reasons) > 1:\n",
    "            weight_str = input(f\"Enter Weight (%) for Main Reason {i} (e.g., 100): \").strip()\n",
    "            try:\n",
    "                weight = float(weight_str)\n",
    "            except ValueError:\n",
    "                raise ValueError(\"Weight should be a number.\")\n",
    "            weights.append(weight)\n",
    "        else:\n",
    "            # Set weight to 100% automatically if this is the only reason\n",
    "            weights.append(100.0)\n",
    "    else:\n",
    "        break\n",
    "if len(main_reasons) > 1 and sum(weights) != 100:\n",
    "    raise ValueError(\"The sum of weights for multiple reasons must equal 100%\")\n"
   ]
  },
  {
   "cell_type": "code",
   "execution_count": 21,
   "metadata": {},
   "outputs": [],
   "source": [
    "# Load the data and mapping\n",
    "folder_path = r'C:\\Users\\plmala\\OneDrive - Coloplast A S\\Desktop\\Python\\PPM\\Price Updates (Python)\\HUVIDE\\Project\\New data'\n",
    "files = [f for f in os.listdir(folder_path) if f.endswith('.xlsx')]\n",
    "newest_file = max([os.path.join(folder_path, f) for f in files], key=os.path.getctime)\n",
    "data = pd.read_excel(newest_file)\n",
    "mapped_data = pd.DataFrame()\n",
    "for src_col, dest_col in column_mapping.items():\n",
    "    if src_col in data.columns:\n",
    "        mapped_data[dest_col] = data[src_col]\n",
    "    else:\n",
    "        mapped_data[dest_col] = ''\n",
    "for dest_col in column_mapping.values():\n",
    "    if dest_col not in mapped_data.columns:\n",
    "        mapped_data[dest_col] = ''\n",
    "for i, reason in enumerate(main_reasons, 1):\n",
    "    mapped_data[f\"Main Reason {i}\"] = reason\n",
    "    mapped_data[f\"Weight (%) Main Reason {i}\"] = weights[i-1]"
   ]
  },
  {
   "cell_type": "code",
   "execution_count": 22,
   "metadata": {},
   "outputs": [],
   "source": [
    "# Load the data\n",
    "destination_path = r'C:\\Users\\plmala\\OneDrive - Coloplast A S\\Desktop\\Python\\PPM\\Price Updates (Python)\\HUVIDE\\Project\\API Template\\API Template.xlsm'\n",
    "wb = openpyxl.load_workbook(destination_path, keep_vba=True)\n",
    "sheet = wb.active\n",
    "header_row = 3\n",
    "header_cells = list(sheet.iter_rows(min_row=header_row, max_row=header_row, values_only=True))[0]\n",
    "column_indexes = {col_name: idx + 1 for idx, col_name in enumerate(header_cells) if col_name in mapped_data.columns}\n",
    "for reason_col in mapped_data.columns:\n",
    "    if reason_col not in column_indexes and reason_col in mapped_data.columns:\n",
    "        column_indexes[reason_col] = header_cells.index(reason_col) + 1 if reason_col in header_cells else None\n",
    "start_row = 4\n",
    "thin_border = Border(left=Side(style='thin'), right=Side(style='thin'), top=Side(style='thin'), bottom=Side(style='thin'))\n",
    "\n",
    "for index, row in mapped_data.iterrows():\n",
    "    cell = sheet.cell(row=start_row + index, column=1, value=effective_date.strftime(\"%d.%m.%Y\"))\n",
    "    cell.border = thin_border\n",
    "    for col_name, value in row.items():\n",
    "        if col_name in column_indexes and column_indexes[col_name] is not None:\n",
    "            col_index = column_indexes[col_name]\n",
    "            cell = sheet.cell(row=start_row + index, column=col_index, value=value)\n",
    "            cell.border = thin_border"
   ]
  },
  {
   "cell_type": "code",
   "execution_count": 23,
   "metadata": {},
   "outputs": [
    {
     "name": "stdout",
     "output_type": "stream",
     "text": [
      "Data successfully copied to C:\\Users\\plmala\\OneDrive - Coloplast A S\\Desktop\\Python\\PPM\\Price Updates (Python)\\HUVIDE\\Project\\API Template\\API Template.xlsm\n"
     ]
    }
   ],
   "source": [
    "# Save the workbook\n",
    "wb.save(destination_path)\n",
    "print(f\"Data successfully copied to {destination_path}\")"
   ]
  },
  {
   "cell_type": "markdown",
   "metadata": {},
   "source": [
    "# VG Supplier "
   ]
  },
  {
   "cell_type": "code",
   "execution_count": 9,
   "metadata": {},
   "outputs": [],
   "source": [
    "import pandas as pd\n",
    "import os\n",
    "from datetime import datetime\n",
    "import re\n",
    "import unicodedata"
   ]
  },
  {
   "cell_type": "code",
   "execution_count": 10,
   "metadata": {},
   "outputs": [],
   "source": [
    "# Source\n",
    "BASE_FILE_PATH = r'C:\\Users\\plmala\\OneDrive - Coloplast A S\\Desktop\\Python\\PPM\\Price Updates (Python)\\HUVIDE\\Project\\Raw data VG.xlsx'\n",
    "HUBBLE_DATA_PATH = r'C:\\Users\\plmala\\OneDrive - Coloplast A S\\Desktop\\Python\\PPM\\Price Updates (Python)\\HUVIDE\\Project\\Hubble Data VG.xlsx'\n",
    "OUTPUT_DIRECTORY = r'C:\\Users\\plmala\\OneDrive - Coloplast A S\\Desktop\\Python\\PPM\\Price Updates (Python)\\HUVIDE\\Project\\New data'"
   ]
  },
  {
   "cell_type": "code",
   "execution_count": 11,
   "metadata": {},
   "outputs": [],
   "source": [
    "# Remove Accents\n",
    "def remove_accents(input_str):\n",
    "    nfkd_form = unicodedata.normalize('NFD', input_str)\n",
    "    return ''.join([char for char in nfkd_form if not unicodedata.combining(char)])"
   ]
  },
  {
   "cell_type": "code",
   "execution_count": null,
   "metadata": {},
   "outputs": [],
   "source": [
    "# Load Excel\n",
    "def load_excel_files(base_file_path, hubble_data_path):\n",
    "    if not os.path.exists(base_file_path):\n",
    "        raise FileNotFoundError(f\"Base file not found: {base_file_path}\")\n",
    "    if not os.path.exists(hubble_data_path):\n",
    "        raise FileNotFoundError(f\"Hubble file not found: {hubble_data_path}\")\n",
    "    base_file_df = pd.read_excel(base_file_path)\n",
    "    hubble_data_df = pd.read_excel(hubble_data_path)\n",
    "    return base_file_df, hubble_data_df\n",
    "def rename_base_file_columns(base_file_df):\n",
    "    base_file_df.columns = base_file_df.columns.str.strip()\n",
    "    base_file_df.columns = base_file_df.columns.str.replace(r'[\\n\\r]+', ' ', regex=True)\n",
    "    base_file_df.columns = base_file_df.columns.map(remove_accents)\n",
    "    base_file_df.columns = base_file_df.columns.str.replace(r'\\s+', ' ', regex=True)  # Replace multiple spaces with a single space\n",
    "    columns_rename_map = {\n",
    "        'Item number': 'Item',\n",
    "        'DAP TAT + PDC': 'DAP TAT + PDC',\n",
    "        'DAP NYI': 'DAP NYI',\n",
    "        'DAP Denmark': 'DAP Denmark',\n",
    "        'FCA Komarom (for CAR)': 'FCA Komarom (for CAR)'\n",
    "    }\n",
    "    columns_to_rename = {col: columns_rename_map[col] for col in base_file_df.columns if col in columns_rename_map}\n",
    "    base_file_df.rename(columns=columns_to_rename, inplace=True)\n",
    "def clean_base_file_columns(base_file_df):\n",
    "    columns_to_keep = ['Item', 'DAP TAT + PDC', 'DAP NYI', 'DAP Denmark', 'FCA Komarom (for CAR)']\n",
    "    return base_file_df.loc[:, base_file_df.columns.isin(columns_to_keep)]"
   ]
  },
  {
   "cell_type": "code",
   "execution_count": null,
   "metadata": {},
   "outputs": [],
   "source": [
    "# Hubble Data\n",
    "def prepare_hubble_data(hubble_data_df):\n",
    "    actual_columns = hubble_data_df.columns.tolist()\n",
    "    expected_columns = [\n",
    "        '2ND ITEM NUMBER', 'DESCRIPTION', 'SUPPLIER NUMBER', 'SUPPLIER DESCRIPTION', 'AMOUNT - UNIT COST',\n",
    "        'BRANCH PLANT', 'CURRENCY CODE - FROM', 'UNIT OF MEASURE AS INPUT', 'QUANTITY BREAK',\n",
    "        'DATE - EFFECTIVE', 'DATE - EXPIRED', 'USER ID', 'DATE - UPDATED', 'IM BUYR NO.', 'IM BUYR'\n",
    "    ]\n",
    "    columns_mapping = dict(zip(actual_columns, expected_columns))\n",
    "    hubble_data_df.rename(columns=columns_mapping, inplace=True)\n",
    "\n",
    "    if 'DATE - EXPIRED' not in hubble_data_df.columns:\n",
    "        hubble_data_df['DATE - EXPIRED'] = pd.NaT\n",
    "    for date_col in ['DATE - EFFECTIVE', 'DATE - EXPIRED']:\n",
    "        hubble_data_df[date_col] = pd.to_datetime(hubble_data_df[date_col], errors='coerce')\n",
    "\n",
    "    hubble_data_df['AMOUNT - UNIT COST'] = hubble_data_df['AMOUNT - UNIT COST'].apply(\n",
    "        lambda x: float(re.findall(r\"[-+]?\\d*\\.\\d+|\\d+\", str(x))[0]) if re.findall(r\"[-+]?\\d*\\.\\d+|\\d+\", str(x)) else 0\n",
    "    )\n",
    "    return hubble_data_df\n",
    "def merge_data(base_file_df, hubble_data_df):\n",
    "    base_file_df['Item'] = base_file_df['Item'].astype(str).str.upper()\n",
    "    hubble_data_df['2ND ITEM NUMBER'] = hubble_data_df['2ND ITEM NUMBER'].astype(str).str.upper()\n",
    "    return pd.merge(base_file_df, hubble_data_df, left_on='Item', right_on='2ND ITEM NUMBER', how='left')\n",
    "def get_new_price(row, branch_price_map):\n",
    "    branch_plant = str(row['BRANCH PLANT'])\n",
    "    for price_column, plants in branch_price_map.items():\n",
    "        if price_column in row and branch_plant in plants:\n",
    "            if pd.notna(row[price_column]):\n",
    "                return row[price_column]\n",
    "    return None\n",
    "def add_new_price_column(merged_df, branch_price_map):\n",
    "    merged_df['New Price'] = merged_df.apply(get_new_price, axis=1, branch_price_map=branch_price_map)\n",
    "    return merged_df"
   ]
  },
  {
   "cell_type": "code",
   "execution_count": null,
   "metadata": {},
   "outputs": [],
   "source": [
    "# Duplicates\n",
    "def handle_duplicates(merged_df):\n",
    "    if 'DATE - EFFECTIVE' not in merged_df.columns:\n",
    "        merged_df['DATE - EFFECTIVE'] = pd.NaT\n",
    "    merged_df['DATE - EFFECTIVE'] = pd.to_datetime(merged_df['DATE - EFFECTIVE'], errors='coerce')\n",
    "    merged_df = merged_df.sort_values(by=['Item', 'SUPPLIER NUMBER', 'DATE - EFFECTIVE'], ascending=[True, True, False], na_position='last')\n",
    "    merged_df = merged_df.drop_duplicates(subset=['Item', 'SUPPLIER NUMBER', 'BRANCH PLANT'], keep='first')\n",
    "    updated_bps_series = merged_df.groupby(['Item', 'SUPPLIER NUMBER'])[['AMOUNT - UNIT COST', 'BRANCH PLANT']].apply(\n",
    "        lambda group: ', '.join(group.loc[group['AMOUNT - UNIT COST'] != 0, 'BRANCH PLANT'].dropna().astype(str).unique())\n",
    "    )\n",
    "    return merged_df, updated_bps_series.reset_index(name='Updated on BPs')\n",
    "def group_data(merged_df, updated_bps_df):\n",
    "    grouped_df = merged_df.merge(updated_bps_df, on=['Item', 'SUPPLIER NUMBER'], how='left')\n",
    "    grouped_df['Updated on BPs'] = grouped_df['Updated on BPs'].fillna('')\n",
    "    grouped_df['BRANCH PLANT'] = grouped_df['BRANCH PLANT'].apply(lambda x: ', '.join([str(int(float(plant))) if plant.endswith('.0') else plant for plant in str(x).split(', ')]))\n",
    "    grouped_df['Updated on BPs'] = grouped_df['Updated on BPs'].apply(lambda x: ', '.join([str(int(float(plant))) if plant.endswith('.0') else plant for plant in str(x).split(', ')]))\n",
    "    return grouped_df"
   ]
  },
  {
   "cell_type": "code",
   "execution_count": 15,
   "metadata": {},
   "outputs": [],
   "source": [
    "# Split Rows\n",
    "def split_and_expand_rows(grouped_df):\n",
    "    expanded_rows = []\n",
    "    for _, row in grouped_df.iterrows():\n",
    "        branch_plants = row['BRANCH PLANT'].split(', ')\n",
    "        updated_plants = row['Updated on BPs'].split(', ') if row['Updated on BPs'] else []\n",
    "        for plant in branch_plants:\n",
    "            temp_row = row.copy()\n",
    "            temp_row['BRANCH PLANT'] = plant\n",
    "            temp_row['Updated on BPs'] = plant if plant in updated_plants else ''\n",
    "            expanded_rows.append(temp_row)\n",
    "    return pd.DataFrame(expanded_rows)\n",
    "def save_branch_plants_separately(merged_df):\n",
    "    branch_plant_df = merged_df[['Item', 'SUPPLIER NUMBER', 'BRANCH PLANT']].copy()\n",
    "    branch_plant_df = branch_plant_df.drop_duplicates()\n",
    "    output_path = os.path.join(OUTPUT_DIRECTORY, f'Branch_Plants_{datetime.now().strftime(\"%Y-%m-%d_%H-%M-%S\")}.xlsx')\n",
    "    os.makedirs(os.path.dirname(output_path), exist_ok=True)"
   ]
  },
  {
   "cell_type": "code",
   "execution_count": 16,
   "metadata": {},
   "outputs": [
    {
     "name": "stdout",
     "output_type": "stream",
     "text": [
      "Data has been merged and saved to 'C:\\Users\\plmala\\OneDrive - Coloplast A S\\Desktop\\Python\\PPM\\Price Updates (Python)\\HUVIDE\\Project\\New data\\Updated_NewData_2024-11-02_21-11-33.xlsx'\n"
     ]
    }
   ],
   "source": [
    "# Save to Excel\n",
    "def save_to_excel(final_df, output_path):\n",
    "    os.makedirs(os.path.dirname(output_path), exist_ok=True)\n",
    "    with pd.ExcelWriter(output_path, engine='xlsxwriter') as writer:\n",
    "        workbook = writer.book\n",
    "        sheet_name = datetime.now().strftime('%d-%m-%Y')\n",
    "        final_df.to_excel(writer, sheet_name=sheet_name, index=False, header=False, startrow=1)\n",
    "        worksheet = writer.sheets[sheet_name]\n",
    "        header_format = workbook.add_format({'bold': True, 'align': 'center', 'border': 1})\n",
    "        old_price_header_format = workbook.add_format({'bold': True, 'align': 'center', 'bg_color': '#FFCCCC', 'border': 1})\n",
    "        new_price_header_format = workbook.add_format({'bold': True, 'align': 'center', 'bg_color': '#CCFFCC', 'border': 1})\n",
    "        number_format = workbook.add_format({'num_format': '0.0000', 'align': 'center', 'border': 1})\n",
    "        for col_num, value in enumerate(final_df.columns):\n",
    "            if value == 'Old Price':\n",
    "                worksheet.write(0, col_num, value, old_price_header_format)\n",
    "                worksheet.set_column(col_num, col_num, 15, number_format)\n",
    "            elif value == 'New Price':\n",
    "                worksheet.write(0, col_num, value, new_price_header_format)\n",
    "                worksheet.set_column(col_num, col_num, 15, number_format)\n",
    "            else:\n",
    "                worksheet.write(0, col_num, value, header_format)\n",
    "                max_len = max(final_df[value].astype(str).map(len).max(), len(value)) + 2\n",
    "                worksheet.set_column(col_num, col_num, max_len, workbook.add_format({'align': 'center', 'border': 1}))\n",
    "        for row_num in range(1, len(final_df) + 1):\n",
    "            for col_num, value in enumerate(final_df.columns):\n",
    "                cell_value = final_df.iloc[row_num - 1, col_num]\n",
    "                if value in ['Old Price', 'New Price']:\n",
    "                    worksheet.write_number(row_num, col_num, cell_value, number_format)\n",
    "                else:\n",
    "                    worksheet.write(row_num, col_num, cell_value, workbook.add_format({'align': 'center', 'border': 1}))\n",
    "\n",
    "        worksheet.autofilter(0, 0, len(final_df), len(final_df.columns) - 1)\n",
    "try:\n",
    "    base_file_df, hubble_data_df = load_excel_files(BASE_FILE_PATH, HUBBLE_DATA_PATH)\n",
    "    rename_base_file_columns(base_file_df)  # Call this before cleaning columns\n",
    "    base_file_df = clean_base_file_columns(base_file_df)\n",
    "    hubble_data_df = prepare_hubble_data(hubble_data_df)\n",
    "    merged_df = merge_data(base_file_df, hubble_data_df)\n",
    "    branch_price_map = {\n",
    "        'DAP TAT + PDC': ['110816', '110858', '490810', '490851', '490813'],\n",
    "        'DAP NYI': ['490815', '490852'],\n",
    "        'DAP Denmark': ['110818', '110813', '110852', '110817', '110857'],\n",
    "        'FCA Komarom (for CAR)': ['790810', '790851']\n",
    "    }\n",
    "    merged_df = add_new_price_column(merged_df, branch_price_map)\n",
    "    merged_df, updated_bps_df = handle_duplicates(merged_df)\n",
    "    grouped_df = group_data(merged_df, updated_bps_df)\n",
    "    final_df = split_and_expand_rows(grouped_df)\n",
    "    final_df = final_df.rename(columns={\n",
    "        'Item': 'Item Number',\n",
    "        'AMOUNT - UNIT COST': 'Old Price',\n",
    "        'CURRENCY CODE - FROM': 'Currency',\n",
    "        'UNIT OF MEASURE AS INPUT': 'UoM'\n",
    "    })\n",
    "    final_df['Old Price'] = pd.to_numeric(final_df['Old Price'], errors='coerce').fillna(0)\n",
    "    final_df['New Price'] = pd.to_numeric(final_df['New Price'], errors='coerce').fillna(0)\n",
    "    final_df = final_df[['SUPPLIER DESCRIPTION', 'SUPPLIER NUMBER', 'Item Number', 'BRANCH PLANT',\n",
    "                         'UoM', 'Updated on BPs', 'New Price', 'Old Price', 'Currency']]\n",
    "    final_df = final_df.replace([float('inf'), float('-inf')], float('nan')).fillna(0)\n",
    "    save_branch_plants_separately(merged_df)\n",
    "    output_path = os.path.join(OUTPUT_DIRECTORY, f'Updated_NewData_{datetime.now().strftime(\"%Y-%m-%d_%H-%M-%S\")}.xlsx')\n",
    "    save_to_excel(final_df, output_path)\n",
    "    print(f\"Data has been merged and saved to '{output_path}'\")\n",
    "except Exception as e:\n",
    "    print(f\"An error occurred: {e}\")"
   ]
  },
  {
   "cell_type": "markdown",
   "metadata": {},
   "source": [
    "# API Template for VG"
   ]
  },
  {
   "cell_type": "code",
   "execution_count": 17,
   "metadata": {},
   "outputs": [],
   "source": [
    "import pandas as pd\n",
    "import openpyxl\n",
    "import os\n",
    "from datetime import datetime\n",
    "import re\n",
    "import unicodedata\n",
    "import warnings\n",
    "from openpyxl.styles import Border, Side"
   ]
  },
  {
   "cell_type": "code",
   "execution_count": 18,
   "metadata": {},
   "outputs": [],
   "source": [
    "# Column mapping\n",
    "column_mapping = {\n",
    "    'SUPPLIER DESCRIPTION': 'Supplier Name',\n",
    "    'SUPPLIER NUMBER': 'Supplier Number',\n",
    "    'Item Number': 'Item Number',\n",
    "    'New Price': 'New price',\n",
    "    'Currency': 'Item Price Currency',\n",
    "    'UoM': 'Unit of measure',\n",
    "    'BRANCH PLANT': 'Branch Plant'\n",
    "}"
   ]
  },
  {
   "cell_type": "code",
   "execution_count": 19,
   "metadata": {},
   "outputs": [],
   "source": [
    "# Ask for the Effective Date\n",
    "effective_date_str = input(\"Please enter the Effective date (DDMMYYYY or DD.MM.YYYY): \")\n",
    "try:\n",
    "    if '.' in effective_date_str:\n",
    "        effective_date = datetime.strptime(effective_date_str, \"%d.%m.%Y\")\n",
    "    else:\n",
    "        effective_date = datetime.strptime(effective_date_str, \"%d%m%Y\")\n",
    "except ValueError:\n",
    "    raise ValueError(\"Invalid date format. Please use DDMMYYYY or DD.MM.YYYY.\")"
   ]
  },
  {
   "cell_type": "code",
   "execution_count": 20,
   "metadata": {},
   "outputs": [],
   "source": [
    "# Load\n",
    "folder_path = r'C:\\Users\\plmala\\OneDrive - Coloplast A S\\Desktop\\Python\\PPM\\Price Updates (Python)\\HUVIDE\\Project\\New data'\n",
    "files = [f for f in os.listdir(folder_path) if f.endswith('.xlsx')]\n",
    "newest_file = max([os.path.join(folder_path, f) for f in files], key=os.path.getctime)\n",
    "data = pd.read_excel(newest_file)"
   ]
  },
  {
   "cell_type": "code",
   "execution_count": 21,
   "metadata": {},
   "outputs": [],
   "source": [
    "# Mapping columns\n",
    "mapped_data = pd.DataFrame()\n",
    "for src_col, dest_col in column_mapping.items():\n",
    "    if src_col in data.columns:\n",
    "        mapped_data[dest_col] = data[src_col]\n",
    "    else:\n",
    "        mapped_data[dest_col] = ''\n",
    "for dest_col in column_mapping.values():\n",
    "    if dest_col not in mapped_data.columns:\n",
    "        mapped_data[dest_col] = ''"
   ]
  },
  {
   "cell_type": "code",
   "execution_count": 22,
   "metadata": {},
   "outputs": [],
   "source": [
    "# Load\n",
    "destination_path = r'C:\\Users\\plmala\\OneDrive - Coloplast A S\\Desktop\\Python\\PPM\\Price Updates (Python)\\HUVIDE\\Project\\API Template\\API Template.xlsm'\n",
    "wb = openpyxl.load_workbook(destination_path, keep_vba=True)\n",
    "sheet = wb.active"
   ]
  },
  {
   "cell_type": "code",
   "execution_count": 23,
   "metadata": {},
   "outputs": [],
   "source": [
    "# Column indexes\n",
    "header_row = 3\n",
    "header_cells = list(sheet.iter_rows(min_row=header_row, max_row=header_row, values_only=True))[0]\n",
    "column_indexes = {col_name: idx + 1 for idx, col_name in enumerate(header_cells) if col_name in mapped_data.columns}\n",
    "start_row = 4\n",
    "thin_border = Border(left=Side(style='thin'), right=Side(style='thin'), top=Side(style='thin'), bottom=Side(style='thin'))\n",
    "for index, row in mapped_data.iterrows():\n",
    "    cell = sheet.cell(row=start_row + index, column=1, value=effective_date.strftime(\"%d.%m.%Y\"))\n",
    "    cell.border = thin_border\n",
    "    for col_name, value in row.items():\n",
    "        if col_name in column_indexes:\n",
    "            col_index = column_indexes[col_name]\n",
    "            cell = sheet.cell(row=start_row + index, column=col_index, value=value)\n",
    "            cell.border = thin_border"
   ]
  },
  {
   "cell_type": "code",
   "execution_count": 24,
   "metadata": {},
   "outputs": [
    {
     "name": "stdout",
     "output_type": "stream",
     "text": [
      "Data successfully copied to C:\\Users\\plmala\\OneDrive - Coloplast A S\\Desktop\\Python\\PPM\\Price Updates (Python)\\HUVIDE\\Project\\API Template\\API Template.xlsm\n"
     ]
    }
   ],
   "source": [
    "# Save the workbook\n",
    "wb.save(destination_path)\n",
    "print(f\"Data successfully copied to {destination_path}\")"
   ]
  },
  {
   "cell_type": "markdown",
   "metadata": {},
   "source": [
    "# Cost method to be assigned in the system"
   ]
  },
  {
   "cell_type": "code",
   "execution_count": 25,
   "metadata": {},
   "outputs": [],
   "source": [
    "import pandas as pd\n",
    "import warnings\n",
    "import random\n",
    "from openpyxl import load_workbook\n",
    "from openpyxl.styles import Border, Side"
   ]
  },
  {
   "cell_type": "code",
   "execution_count": 26,
   "metadata": {},
   "outputs": [],
   "source": [
    "# Paths\n",
    "item_branch_path = r\"C:\\Users\\plmala\\OneDrive - Coloplast A S\\Desktop\\Python\\PPM\\Price Updates (Python)\\HUVIDE\\Project\\Item Branch.xlsx\"\n",
    "manual_upload_path = r\"C:\\Users\\plmala\\OneDrive - Coloplast A S\\Desktop\\Python\\PPM\\Price Updates (Python)\\HUVIDE\\Project\\Manual Upload Template.xlsm\"\n",
    "output_path = r\"C:\\Users\\plmala\\OneDrive - Coloplast A S\\Desktop\\Python\\PPM\\Price Updates (Python)\\HUVIDE\\Project\\620\\620.xlsx\""
   ]
  },
  {
   "cell_type": "code",
   "execution_count": 27,
   "metadata": {},
   "outputs": [
    {
     "name": "stderr",
     "output_type": "stream",
     "text": [
      "c:\\Users\\plmala\\AppData\\Local\\Programs\\Python\\Python313\\Lib\\site-packages\\openpyxl\\worksheet\\_reader.py:329: UserWarning: Data Validation extension is not supported and will be removed\n",
      "  warn(msg)\n"
     ]
    }
   ],
   "source": [
    "# Read, extract, rename and standarize \n",
    "item_branch_df = pd.read_excel(item_branch_path)\n",
    "manual_upload_df = pd.read_excel(manual_upload_path)\n",
    "item_branch_df = item_branch_df[['SUPPLIER NUMBER', 'ITEM NUMBER', 'BRANCH PLANT']]\n",
    "manual_upload_df = manual_upload_df[['Supplier Number', 'Item Number', 'Branch Plant']]\n",
    "item_branch_df.columns = ['Supplier Number', 'Item Number', 'Branch Plant']\n",
    "key_cols = ['Supplier Number', 'Item Number', 'Branch Plant']\n",
    "for col in key_cols:\n",
    "    item_branch_df[col] = item_branch_df[col].astype(str).str.strip().str.upper()\n",
    "    manual_upload_df[col] = manual_upload_df[col].astype(str).str.strip().str.upper()\n",
    "manual_upload_df['OriginalOrder'] = manual_upload_df.index\n",
    "valid_combinations = item_branch_df.drop_duplicates(subset=key_cols)\n"
   ]
  },
  {
   "cell_type": "code",
   "execution_count": 29,
   "metadata": {},
   "outputs": [],
   "source": [
    "# Merge\n",
    "merged_df = pd.merge(\n",
    "    manual_upload_df,\n",
    "    valid_combinations,\n",
    "    on=key_cols,\n",
    "    how='left',\n",
    "    indicator=True,\n",
    "    sort=False\n",
    ")\n",
    "merged_df['620'] = ''"
   ]
  },
  {
   "cell_type": "code",
   "execution_count": 30,
   "metadata": {},
   "outputs": [],
   "source": [
    "# Define the prefixes and assign 620 \n",
    "branch_prefixes = ['790', '620', '110', '490', '351', '711']\n",
    "def set_620_flag_based_on_validation(df):\n",
    "    grouped = df.groupby(['Supplier Number', 'Item Number'])\n",
    "    for (supplier_number, item_number), group in grouped:\n",
    "        for prefix in branch_prefixes:\n",
    "            prefix_matches = group[\n",
    "                group['Branch Plant'].str.startswith(prefix) &\n",
    "                (group['_merge'] == 'both')\n",
    "            ]\n",
    "            if len(prefix_matches) >= 1:\n",
    "                selected_index = random.choice(prefix_matches.index)\n",
    "                df.loc[selected_index, '620'] = '620'\n",
    "                break\n",
    "    return df"
   ]
  },
  {
   "cell_type": "code",
   "execution_count": 31,
   "metadata": {},
   "outputs": [],
   "source": [
    "# Apply the function\n",
    "merged_df = set_620_flag_based_on_validation(merged_df)\n",
    "\n",
    "# Sort\n",
    "merged_df = merged_df.sort_values('OriginalOrder')\n",
    "\n",
    "# Drop\n",
    "merged_df.drop(columns=['_merge', 'OriginalOrder'], inplace=True)\n",
    "\n",
    "# Final column order\n",
    "final_columns = ['Supplier Number', 'Item Number', 'Branch Plant', '620']\n",
    "merged_df = merged_df[final_columns]"
   ]
  },
  {
   "cell_type": "code",
   "execution_count": 32,
   "metadata": {},
   "outputs": [
    {
     "name": "stdout",
     "output_type": "stream",
     "text": [
      "File saved with borders at C:\\Users\\plmala\\OneDrive - Coloplast A S\\Desktop\\Python\\PPM\\Price Updates (Python)\\HUVIDE\\Project\\620\\620.xlsx\n"
     ]
    }
   ],
   "source": [
    "# Save the output file while preserving the order of manual_upload_df\n",
    "merged_df.to_excel(output_path, index=False)\n",
    "wb = load_workbook(output_path)\n",
    "ws = wb.active\n",
    "thin_border = Border(\n",
    "    left=Side(style=\"thin\"),\n",
    "    right=Side(style=\"thin\"),\n",
    "    top=Side(style=\"thin\"),\n",
    "    bottom=Side(style=\"thin\")\n",
    ")\n",
    "for row in ws.iter_rows():\n",
    "    for cell in row:\n",
    "        cell.border = thin_border\n",
    "wb.save(output_path)\n",
    "\n",
    "print(f\"File saved with borders at {output_path}\")"
   ]
  },
  {
   "cell_type": "markdown",
   "metadata": {},
   "source": [
    "# Visualizations"
   ]
  },
  {
   "cell_type": "code",
   "execution_count": 33,
   "metadata": {},
   "outputs": [],
   "source": [
    "import matplotlib.pyplot as plt\n",
    "import pandas as pd\n",
    "import os\n",
    "from datetime import datetime"
   ]
  },
  {
   "cell_type": "code",
   "execution_count": 34,
   "metadata": {},
   "outputs": [],
   "source": [
    "# Paths\n",
    "BASE_FILE_PATH = r'C:\\Users\\plmala\\OneDrive - Coloplast A S\\Desktop\\Python\\PPM\\Price Updates (Python)\\HUVIDE\\Project\\Raw data VG.xlsx'\n",
    "HUBBLE_DATA_PATH = r'C:\\Users\\plmala\\OneDrive - Coloplast A S\\Desktop\\Python\\PPM\\Price Updates (Python)\\HUVIDE\\Project\\Hubble Data.xlsx'\n",
    "OUTPUT_DIRECTORY = r'C:\\Users\\plmala\\OneDrive - Coloplast A S\\Desktop\\Python\\PPM\\Price Updates (Python)\\HUVIDE\\Project\\New data'"
   ]
  },
  {
   "cell_type": "code",
   "execution_count": null,
   "metadata": {},
   "outputs": [],
   "source": [
    "# Load\n",
    "list_of_files = [os.path.join(OUTPUT_DIRECTORY, f) for f in os.listdir(OUTPUT_DIRECTORY) if f.endswith('.xlsx')]\n",
    "if list_of_files:\n",
    "    latest_file = max(list_of_files, key=os.path.getctime)\n",
    "    output_path = latest_file\n",
    "else:\n",
    "    output_path = None\n",
    "if output_path:\n",
    "    try:\n",
    "        final_df = pd.read_excel(output_path)\n",
    "    except FileNotFoundError:\n",
    "        print(f\"The file at '{output_path}' was not found. Please check the file path.\")\n",
    "else:\n",
    "    print(\"No files found\")"
   ]
  },
  {
   "cell_type": "code",
   "execution_count": 44,
   "metadata": {},
   "outputs": [],
   "source": [
    "def visualize_branch_plant_price_distribution(df):\n",
    "    if 'BRANCH PLANT' in df.columns and 'New Price' in df.columns:\n",
    "        df_filtered = df[['BRANCH PLANT', 'New Price']].dropna(subset=['New Price'])\n",
    "        df_filtered = df_filtered[df_filtered['New Price'] > 0]\n",
    "        if not df_filtered.empty:\n",
    "            df_grouped = df_filtered.groupby('BRANCH PLANT')['New Price'].mean().reset_index()\n",
    "            df_grouped['BRANCH PLANT'] = df_grouped['BRANCH PLANT'].astype(str)\n",
    "            df_grouped = df_grouped.sort_values(by='New Price', ascending=False)\n",
    "            plt.figure(figsize=(12, 7))\n",
    "            plt.bar(df_grouped['BRANCH PLANT'], df_grouped['New Price'], color='purple', alpha=0.7)\n",
    "            plt.xlabel('Branch Plant')\n",
    "            plt.ylabel('Average New Price')\n",
    "            plt.title('Branch Plant Price Distribution')\n",
    "            plt.xticks(rotation=90, ha='right')  #\n",
    "            plt.tight_layout()\n",
    "            plt.show()\n",
    "        else:\n",
    "            print(\"No valid data\")"
   ]
  },
  {
   "cell_type": "markdown",
   "metadata": {},
   "source": [
    "The following chart presents a breakdown of statistics on the most common locations where products are delivered and the frequency of price updates when new prices are provided by the supplier. The X-axis represents branches (BRANCH PLANT – locations where production takes place), while the Y-axis shows the number of price updates for each branch. This visualization gives a clear picture of which branches had the most price updates, which can be useful for analyzing which locations experience frequent price changes, potentially indicating dynamic shifts in demand or costs."
   ]
  },
  {
   "cell_type": "code",
   "execution_count": 45,
   "metadata": {},
   "outputs": [
    {
     "data": {
      "image/png": "[encoded data removed]",
      "text/plain": [
       "<Figure size 1200x700 with 1 Axes>"
      ]
     },
     "metadata": {},
     "output_type": "display_data"
    }
   ],
   "source": [
    "if 'final_df' in locals() and isinstance(final_df, pd.DataFrame):\n",
    "    visualize_branch_plant_price_distribution(final_df)\n",
    "else:\n",
    "    print(\"The variable 'final_df' is not defined or not a DataFrame.\")"
   ]
  },
  {
   "cell_type": "markdown",
   "metadata": {},
   "source": [
    "The data generated by the Python code also enables the identification of products with the largest percentage price differences compared to previous updates. Such significant differences may indicate dynamic market changes, increased supply or production costs, and may help detect potential errors from manual data entry in the system. Analyzing these deviations allows for quick responses and verification of possible discrepancies. "
   ]
  },
  {
   "cell_type": "code",
   "execution_count": 77,
   "metadata": {},
   "outputs": [],
   "source": [
    "import pandas as pd\n",
    "import matplotlib.pyplot as plt\n",
    "import numpy as np\n",
    "import os\n",
    "import glob"
   ]
  },
  {
   "cell_type": "code",
   "execution_count": null,
   "metadata": {},
   "outputs": [],
   "source": [
    "# Define the function\n",
    "def get_latest_file(directory, pattern='*.xlsx'):\n",
    "    files = glob.glob(os.path.join(directory, pattern))\n",
    "    if not files:\n",
    "        raise FileNotFoundError(f\"No files found in {directory} matching pattern {pattern}\")\n",
    "    latest_file = max(files, key=os.path.getctime)\n",
    "    return latest_file"
   ]
  },
  {
   "cell_type": "code",
   "execution_count": 79,
   "metadata": {},
   "outputs": [],
   "source": [
    "OUTPUT_DIRECTORY = r'C:\\Users\\plmala\\OneDrive - Coloplast A S\\Desktop\\Python\\PPM\\Price Updates (Python)\\HUVIDE\\Project\\New data'"
   ]
  },
  {
   "cell_type": "code",
   "execution_count": 82,
   "metadata": {},
   "outputs": [
    {
     "data": {
      "image/png": "[encoded data removed]",
      "text/plain": [
       "<Figure size 1000x600 with 1 Axes>"
      ]
     },
     "metadata": {},
     "output_type": "display_data"
    }
   ],
   "source": [
    "try:\n",
    "    latest_file = get_latest_file(OUTPUT_DIRECTORY, pattern='Updated_NewData_*.xlsx')\n",
    "    viz_df = pd.read_excel(latest_file)\n",
    "    viz_df['Old Price'] = pd.to_numeric(viz_df['Old Price'], errors='coerce').fillna(0)\n",
    "    viz_df['New Price'] = pd.to_numeric(viz_df['New Price'], errors='coerce').fillna(0)\n",
    "    viz_df['Price Difference'] = viz_df['New Price'] - viz_df['Old Price']\n",
    "    viz_df['Percentage Change'] = np.where(\n",
    "        viz_df['Old Price'] != 0,\n",
    "        (viz_df['Price Difference'] / viz_df['Old Price']) * 100,\n",
    "        np.nan\n",
    "    )\n",
    "    top5_pct_diff = viz_df[viz_df['Old Price'] != 0].reindex(\n",
    "        viz_df['Percentage Change'].abs().sort_values(ascending=False).index\n",
    "    ).head(5)\n",
    "    plt.figure(figsize=(10, 6))\n",
    "    top5_pct_diff.set_index('Item Number')['Percentage Change'].plot(kind='bar', color='orange')\n",
    "    plt.title('Top 5 Products with the Largest Percentage Price Differences')\n",
    "    plt.xlabel('Item Number')\n",
    "    plt.ylabel('Percentage Change (%)')\n",
    "    plt.tight_layout()\n",
    "    plt.show()\n",
    "except Exception as e:\n",
    "    print(f\"An error occurred: {e}\")"
   ]
  },
  {
   "cell_type": "markdown",
   "metadata": {},
   "source": [
    "Additionally, a more detailed chart has been created to illustrate the above price situation. This chart is based on an in-depth data analysis, providing a clearer view of price changes. Data is pulled from the latest file in the output directory, then processed to identify products with the largest price differences. For each of the five products with the highest price differences, the absolute and percentage changes are calculated."
   ]
  },
  {
   "cell_type": "code",
   "execution_count": 83,
   "metadata": {},
   "outputs": [],
   "source": [
    "import pandas as pd\n",
    "import os\n",
    "import glob\n",
    "import matplotlib.pyplot as plt\n",
    "import numpy as np"
   ]
  },
  {
   "cell_type": "code",
   "execution_count": 84,
   "metadata": {},
   "outputs": [],
   "source": [
    "# Function\n",
    "def get_latest_file(directory, pattern='*.xlsx'):\n",
    "    files = glob.glob(os.path.join(directory, pattern))\n",
    "    if not files:\n",
    "        raise FileNotFoundError(f\"No files found in {directory} matching pattern {pattern}\")\n",
    "    latest_file = max(files, key=os.path.getctime)\n",
    "    return latest_file"
   ]
  },
  {
   "cell_type": "code",
   "execution_count": 85,
   "metadata": {},
   "outputs": [],
   "source": [
    "# Set the directory\n",
    "OUTPUT_DIRECTORY = r'C:\\Users\\plmala\\OneDrive - Coloplast A S\\Desktop\\Python\\PPM\\Price Updates (Python)\\HUVIDE\\Project\\New data'"
   ]
  },
  {
   "cell_type": "code",
   "execution_count": 86,
   "metadata": {},
   "outputs": [
    {
     "data": {
      "image/png": "[encoded data removed]",
      "text/plain": [
       "<Figure size 1200x700 with 1 Axes>"
      ]
     },
     "metadata": {},
     "output_type": "display_data"
    }
   ],
   "source": [
    "try:\n",
    "    latest_file = get_latest_file(OUTPUT_DIRECTORY, pattern='Updated_NewData_*.xlsx')\n",
    "    viz_df = pd.read_excel(latest_file)\n",
    "    viz_df['Old Price'] = pd.to_numeric(viz_df['Old Price'], errors='coerce').fillna(0)\n",
    "    viz_df['New Price'] = pd.to_numeric(viz_df['New Price'], errors='coerce').fillna(0)\n",
    "    viz_df['Price Difference'] = viz_df['New Price'] - viz_df['Old Price']\n",
    "    viz_df['Percentage Change'] = np.where(\n",
    "        viz_df['Old Price'] != 0,\n",
    "        (viz_df['Price Difference'] / viz_df['Old Price']) * 100,\n",
    "        np.nan\n",
    "    )\n",
    "    viz_df_nonzero = viz_df[viz_df['Price Difference'] != 0].copy()\n",
    "    top5_smallest_diff = viz_df_nonzero.reindex(\n",
    "        viz_df_nonzero['Price Difference'].abs().sort_values(ascending=True).index\n",
    "    ).head(5)\n",
    "    items = top5_smallest_diff['Item Number']\n",
    "    old_prices = top5_smallest_diff['Old Price']\n",
    "    new_prices = top5_smallest_diff['New Price']\n",
    "    percentage_changes = top5_smallest_diff['Percentage Change']\n",
    "    currencies = top5_smallest_diff['Currency']\n",
    "    uoms = top5_smallest_diff['UoM']\n",
    "    x = np.arange(len(items))\n",
    "    width = 0.35\n",
    "    fig, ax = plt.subplots(figsize=(12, 7))\n",
    "    rects1 = ax.bar(x - width/2, old_prices, width, label='Old Price', color='skyblue')\n",
    "    rects2 = ax.bar(x + width/2, new_prices, width, label='New Price', color='salmon')\n",
    "    for rect in rects1:\n",
    "        height = rect.get_height()\n",
    "        formatted_price = f'{height:.4f}'.replace('.', ',')\n",
    "        ax.annotate(formatted_price,\n",
    "                    xy=(rect.get_x() + rect.get_width() / 2, height / 2),\n",
    "                    xytext=(0, 0),\n",
    "                    textcoords='offset points',\n",
    "                    ha='center', va='center', fontsize=10, color='white')\n",
    "    for rect in rects2:\n",
    "        height = rect.get_height()\n",
    "        formatted_price = f'{height:.4f}'.replace('.', ',')\n",
    "        ax.annotate(formatted_price,\n",
    "                    xy=(rect.get_x() + rect.get_width() / 2, height / 2),\n",
    "                    xytext=(0, 0),\n",
    "                    textcoords='offset points',\n",
    "                    ha='center', va='center', fontsize=10, color='white')\n",
    "    for i in range(len(items)):\n",
    "        bar_height = max(old_prices.iloc[i], new_prices.iloc[i])\n",
    "        bar_x = x[i]\n",
    "        percentage = percentage_changes.iloc[i]\n",
    "        if not np.isnan(percentage):\n",
    "            formatted_percentage = f'{percentage:+.2f}%'.replace('.', ',')\n",
    "            color = 'green' if percentage > 0 else 'red'\n",
    "            ax.annotate(formatted_percentage,\n",
    "                        xy=(bar_x, bar_height),\n",
    "                        xytext=(0, 5),\n",
    "                        textcoords='offset points',\n",
    "                        ha='center', va='bottom', fontsize=8, fontweight='bold', color=color)\n",
    "    y_label_currency = currencies.iloc[0] if currencies.nunique() == 1 else ''\n",
    "    y_label_uom = uoms.iloc[0] if uoms.nunique() == 1 else ''\n",
    "    ax.set_ylabel(f'Price ({y_label_currency}/{y_label_uom})' if y_label_currency and y_label_uom else 'Price')\n",
    "    ax.set_title('Comparison of Old and New Prices for the 5 Products with the Largest Price Differences', fontweight='bold')\n",
    "    ax.set_xticks(x)\n",
    "    ax.set_xticklabels(items, rotation=45, ha='right')\n",
    "    ax.legend()\n",
    "    ax.yaxis.set_ticks_position('none')\n",
    "    ax.set_yticklabels([])\n",
    "    ax.grid(False)\n",
    "\n",
    "    plt.tight_layout()\n",
    "    plt.show()\n",
    "\n",
    "except Exception as e:\n",
    "    print(f\"An error occurred: {e}\")"
   ]
  },
  {
   "cell_type": "markdown",
   "metadata": {},
   "source": [
    "The extensive amount of manual work previously required for updating prices manually becomes especially clear in the last chart. This chart displays both the total number of unique products for which prices were changed and the number of operations needed to update these products across various warehouse locations or suppliers. It’s evident that updating the price for a single product often requires multiple operations, underscoring the critical role of automation in managing complex processes.\n",
    "\n",
    "Each price change for a single product can involve multiple warehouse locations, different suppliers, currencies, or units of measure. Without automation, manually implementing these changes would not only demand a significant amount of work but also carry a high risk of errors. This is why automation has become an essential part of modern price management processes, forming the foundation of a more flexible management model."
   ]
  },
  {
   "cell_type": "code",
   "execution_count": 87,
   "metadata": {},
   "outputs": [],
   "source": [
    "import matplotlib.pyplot as plt\n",
    "import pandas as pd\n",
    "import os"
   ]
  },
  {
   "cell_type": "code",
   "execution_count": 88,
   "metadata": {},
   "outputs": [],
   "source": [
    "# Load the final DF\n",
    "OUTPUT_DIRECTORY = r'C:\\Users\\plmala\\OneDrive - Coloplast A S\\Desktop\\Python\\PPM\\Price Updates (Python)\\HUVIDE\\Project\\New data'\n",
    "file_list = [os.path.join(OUTPUT_DIRECTORY, f) for f in os.listdir(OUTPUT_DIRECTORY) if f.endswith('.xlsx')]\n",
    "if file_list:\n",
    "    latest_file = max(file_list, key=os.path.getctime)\n",
    "    final_df = pd.read_excel(latest_file)"
   ]
  },
  {
   "cell_type": "code",
   "execution_count": 89,
   "metadata": {},
   "outputs": [
    {
     "data": {
      "image/png": "[encoded data removed]",
      "text/plain": [
       "<Figure size 700x700 with 1 Axes>"
      ]
     },
     "metadata": {},
     "output_type": "display_data"
    }
   ],
   "source": [
    "required_columns = ['Item Number', 'BRANCH PLANT', 'SUPPLIER DESCRIPTION']\n",
    "missing_columns = [col for col in required_columns if col not in final_df.columns]\n",
    "if missing_columns:\n",
    "    print(f\"Missing columns: {missing_columns}\")\n",
    "else:\n",
    "    filtered_df = final_df[['Item Number', 'BRANCH PLANT', 'SUPPLIER DESCRIPTION']].dropna()\n",
    "    number_of_updated_items = filtered_df['Item Number'].nunique()\n",
    "    number_of_operations = filtered_df.shape[0]\n",
    "    labels = ['Updated Items', 'Total Operations']\n",
    "    sizes = [number_of_updated_items, number_of_operations]\n",
    "    colors = ['#66b3ff', '#ffcc99']\n",
    "    plt.figure(figsize=(7, 7))\n",
    "    plt.pie(sizes, labels=labels, autopct='%1.1f%%', startangle=140, colors=colors)\n",
    "    plt.axis('equal')\n",
    "    plt.title('Updated Items vs Total Number of Operations')\n",
    "    plt.show()"
   ]
  },
  {
   "cell_type": "markdown",
   "metadata": {},
   "source": [
    "To sum up, with the capability to integrate with API systems, analysis results can be directly implemented into the system without the need for additional manual interventions. Ultimately, this automation allows the team to focus on more strategic tasks while reducing operational costs and enhancing decision-making quality. Additionally, automated processing and price updates across various locations and suppliers enable better management of diverse markets and prevent inconsistencies that could impact profitability.\n",
    "\n",
    "Automation also opens up possibilities for integration with other systems, meaning data can be seamlessly exchanged between different platforms within the company. This not only streamlines management but also allows for more advanced data analysis, which can aid in optimizing pricing strategies in the future."
   ]
  }
 ],
 "metadata": {
  "kernelspec": {
   "display_name": "Python 3",
   "language": "python",
   "name": "python3"
  },
  "language_info": {
   "codemirror_mode": {
    "name": "ipython",
    "version": 3
   },
   "file_extension": ".py",
   "mimetype": "text/x-python",
   "name": "python",
   "nbconvert_exporter": "python",
   "pygments_lexer": "ipython3",
   "version": "3.13.0"
  }
 },
 "nbformat": 4,
 "nbformat_minor": 2
}

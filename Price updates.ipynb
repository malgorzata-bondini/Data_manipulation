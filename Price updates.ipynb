{
 "cells": [
  {
   "cell_type": "markdown",
   "metadata": {},
   "source": [
    "# Raw Material Prices <br>\n",
    "The script handles data extraction, processing, and preparation for three distinct Excel files required for various system uploads, including API integration, manual database updates, and bulk uploads. The data flow includes reading raw data from Excel sheets, combining it with supplier price requests, processing it, and outputting the required formatted Excel files."
   ]
  },
  {
   "cell_type": "code",
   "execution_count": 1,
   "metadata": {},
   "outputs": [],
   "source": [
    "import pandas as pd\n",
    "import os\n",
    "from datetime import datetime\n",
    "import re\n",
    "from openpyxl import load_workbook"
   ]
  },
  {
   "cell_type": "code",
   "execution_count": 2,
   "metadata": {},
   "outputs": [],
   "source": [
    "# Paths\n",
    "base_file_path = r'C:\\Users\\plmala\\OneDrive - Coloplast A S\\Desktop\\Python\\PPM\\Price Updates (Python)\\0_Price Updates\\Single Items.xlsm'\n",
    "output_folder_path = r'C:\\Users\\plmala\\OneDrive - Coloplast A S\\Desktop\\Python\\PPM\\Price Updates (Python)\\0_Price Updates\\New Files'\n",
    "manual_update_folder_path = r'C:\\Users\\plmala\\OneDrive - Coloplast A S\\Desktop\\Python\\PPM\\Price Updates (Python)\\0_Price Updates\\Manual Update'\n",
    "api_template_folder_path = r'C:\\Users\\plmala\\OneDrive - Coloplast A S\\Desktop\\Python\\PPM\\Price Updates (Python)\\0_Price Updates\\API Template'\n",
    "massive_upload_folder_path = r'C:\\Users\\plmala\\OneDrive - Coloplast A S\\Desktop\\Python\\PPM\\Price Updates (Python)\\0_Price Updates\\Massive Upload'"
   ]
  },
  {
   "cell_type": "code",
   "execution_count": null,
   "metadata": {},
   "outputs": [
    {
     "name": "stderr",
     "output_type": "stream",
     "text": [
      "c:\\Users\\plmala\\AppData\\Local\\Programs\\Python\\Python313\\Lib\\site-packages\\openpyxl\\worksheet\\_reader.py:329: UserWarning: Data Validation extension is not supported and will be removed\n",
      "  warn(msg)\n"
     ]
    }
   ],
   "source": [
    "# Check, load, define and read\n",
    "if not os.path.exists(base_file_path):\n",
    "    raise FileNotFoundError(f\"Base file not found: {base_file_path}\")\n",
    "wb = load_workbook(base_file_path, keep_vba=True, keep_links=False)\n",
    "\n",
    "def read_sheet_to_df(workbook, sheet_name):\n",
    "    ws = workbook[sheet_name]\n",
    "    data = ws.values\n",
    "    columns = next(data)\n",
    "    return pd.DataFrame(data, columns=columns)\n",
    "\n",
    "base_file_df = read_sheet_to_df(wb, 'Template')\n",
    "hubble_data_df = read_sheet_to_df(wb, 'Hubble data')\n",
    "item_branch_df = read_sheet_to_df(wb, 'Item Branch')"
   ]
  },
  {
   "cell_type": "code",
   "execution_count": null,
   "metadata": {},
   "outputs": [],
   "source": [
    "# Clean the data\n",
    "base_file_df.columns = base_file_df.columns.str.strip()\n",
    "hubble_data_df.columns = hubble_data_df.columns.str.strip()\n",
    "item_branch_df.columns = item_branch_df.columns.str.strip()\n",
    "columns_to_convert = [\n",
    "    'Item', '2ND ITEM NUMBER', 'SUPPLIER NUMBER', 'ITEM NUMBER', 'SUPPLIER DESCRIPTION',\n",
    "    'BRANCH PLANT', 'Supplier Number', 'Item Number', 'Branch Plant'\n",
    "]\n",
    "\n",
    "for df in [base_file_df, hubble_data_df, item_branch_df]:\n",
    "    for col in columns_to_convert:\n",
    "        if col in df.columns:\n",
    "            df[col] = df[col].astype(str).str.upper().str.strip()\n",
    "base_file_df['Item'] = base_file_df['Item'].replace(['NONE', '', 'N/A', 'UNKNOWN', 'NAN'], pd.NA)\n",
    "base_file_df = base_file_df.dropna(subset=['Item'])\n",
    "base_file_df['New Price'] = base_file_df['New Price'].astype(str).str.replace(',', '.')\n",
    "base_file_df['New Price'] = pd.to_numeric(base_file_df['New Price'], errors='coerce').round(4)"
   ]
  },
  {
   "cell_type": "code",
   "execution_count": 5,
   "metadata": {},
   "outputs": [],
   "source": [
    "# Fill mandatory columns with default values if empty\n",
    "base_file_df['Main Reason 1'] = base_file_df['Main Reason 1'].fillna('Index Driven')\n",
    "base_file_df['Weight (%) Reason 1'] = base_file_df['Weight (%) Reason 1'].fillna(100)\n",
    "base_file_df['Main Reason 2'] = base_file_df['Main Reason 2'].fillna('')\n",
    "base_file_df['Weight (%) Reason 2'] = base_file_df['Weight (%) Reason 2'].fillna('')\n",
    "base_file_df['Main Reason 3'] = base_file_df['Main Reason 3'].fillna('')\n",
    "base_file_df['Weight (%) Reason 3'] = base_file_df['Weight (%) Reason 3'].fillna('')"
   ]
  },
  {
   "cell_type": "code",
   "execution_count": null,
   "metadata": {},
   "outputs": [],
   "source": [
    "# Prepare 'Effective date' column\n",
    "if 'Effective date' in base_file_df.columns:\n",
    "    base_file_df['Effective date'] = pd.to_datetime(base_file_df['Effective date'], errors='coerce')\n",
    "# Convert 'AMOUNT - UNIT COST' to float and 'DATE - EFFECTIVE' to datetime\n",
    "def extract_numbers(x):\n",
    "    nums = re.findall(r\"[-+]?\\d*\\.\\d+|\\d+\", str(x).replace(',', '.'))\n",
    "    return round(float(nums[0]), 4) if nums else 0.0000\n",
    "\n",
    "hubble_data_df['AMOUNT - UNIT COST'] = hubble_data_df['AMOUNT - UNIT COST'].apply(extract_numbers)\n",
    "hubble_data_df['DATE - EFFECTIVE'] = pd.to_datetime(hubble_data_df['DATE - EFFECTIVE'], errors='coerce')"
   ]
  },
  {
   "cell_type": "code",
   "execution_count": 7,
   "metadata": {},
   "outputs": [
    {
     "name": "stdout",
     "output_type": "stream",
     "text": [
      "Items not found in hubble_data_df:\n",
      "['16001601']\n"
     ]
    }
   ],
   "source": [
    "# Merge, map and debug\n",
    "merged_df = pd.merge(base_file_df, hubble_data_df, left_on='Item', right_on='2ND ITEM NUMBER', how='left')\n",
    "unmatched_items = merged_df[merged_df['2ND ITEM NUMBER'].isna()]['Item'].unique()\n",
    "if unmatched_items.size > 0:\n",
    "    print(\"Items not found in hubble_data_df:\")\n",
    "    print(unmatched_items)\n",
    "merged_df['AMOUNT - UNIT COST'] = merged_df['AMOUNT - UNIT COST'].fillna(0.0)\n",
    "merged_df['DATE - EFFECTIVE'] = merged_df['DATE - EFFECTIVE'].fillna(pd.NaT)\n",
    "item_branch_df = item_branch_df[['SUPPLIER NUMBER', 'ITEM NUMBER', 'BRANCH PLANT']]\n",
    "item_branch_df.columns = ['Supplier Number', 'Item Number', 'Branch Plant']\n",
    "item_branch_df = item_branch_df.apply(lambda x: x.str.strip())\n",
    "merged_df['Supplier Number'] = merged_df['SUPPLIER NUMBER'].str.strip()\n",
    "merged_df['Item Number'] = merged_df['Item'].str.strip()\n",
    "merged_df['Branch Plant'] = merged_df['BRANCH PLANT'].str.strip()\n",
    "key_cols = ['Supplier Number', 'Item Number', 'Branch Plant']\n",
    "merged_df = pd.merge(\n",
    "    merged_df,\n",
    "    item_branch_df.drop_duplicates(subset=key_cols),\n",
    "    on=key_cols,\n",
    "    how='left',\n",
    "    indicator=True\n",
    ")\n",
    "merged_df['620'] = ''"
   ]
  },
  {
   "cell_type": "code",
   "execution_count": null,
   "metadata": {},
   "outputs": [],
   "source": [
    "# Define prefixes\n",
    "branch_prefixes = ['790', '620', '110', '490', '351', '711']\n",
    "def assign_620(df):\n",
    "    grouped = df.groupby(['Supplier Number', 'Item Number'])\n",
    "    for (supplier_number, item_number), group in grouped:\n",
    "        for prefix in branch_prefixes:\n",
    "            matches = group[\n",
    "                group['Branch Plant'].str.startswith(prefix) &\n",
    "                (group['_merge'] == 'both')\n",
    "            ]\n",
    "            if not matches.empty:\n",
    "                # Assign '620' to the first matching row\n",
    "                selected_index = matches.index[0]\n",
    "                df.at[selected_index, '620'] = '620'\n",
    "                break\n",
    "    return df\n",
    "\n",
    "merged_df = assign_620(merged_df)\n",
    "merged_df.drop(columns=['_merge'], inplace=True)\n",
    "updated_bps_df = merged_df[merged_df['AMOUNT - UNIT COST'] != 0].groupby(['Item', 'SUPPLIER NUMBER'])['Branch Plant'].agg(lambda x: ', '.join(x.dropna().unique())).reset_index()\n",
    "updated_bps_df.rename(columns={'Branch Plant': 'Updated on BPs'}, inplace=True)"
   ]
  },
  {
   "cell_type": "code",
   "execution_count": 9,
   "metadata": {},
   "outputs": [],
   "source": [
    "# Get 'Old Price' and 'Old Price Effective Date'\n",
    "old_price_info = merged_df.dropna(subset=['DATE - EFFECTIVE']).sort_values('DATE - EFFECTIVE').groupby(['Item', 'SUPPLIER NUMBER']).agg({\n",
    "    'AMOUNT - UNIT COST': 'last',\n",
    "    'DATE - EFFECTIVE': 'last'\n",
    "}).reset_index()\n",
    "old_price_info.rename(columns={\n",
    "    'AMOUNT - UNIT COST': 'Old Price',\n",
    "    'DATE - EFFECTIVE': 'Old Price Effective Date'\n",
    "}, inplace=True)"
   ]
  },
  {
   "cell_type": "code",
   "execution_count": null,
   "metadata": {},
   "outputs": [],
   "source": [
    "# Aggregate\n",
    "grouped_df = merged_df.groupby(['Item', 'SUPPLIER NUMBER'], as_index=False).agg({\n",
    "    'New Price': 'first',\n",
    "    'CURRENCY CODE - FROM': 'first',\n",
    "    'SUPPLIER DESCRIPTION': 'first',\n",
    "    'Branch Plant': lambda x: ', '.join(x.dropna().unique()),\n",
    "    'UNIT OF MEASURE AS INPUT': 'first',\n",
    "    'Effective date': 'first',\n",
    "    'Main Reason 1': 'first',\n",
    "    'Weight (%) Reason 1': 'first',\n",
    "    'Main Reason 2': 'first',\n",
    "    'Weight (%) Reason 2': 'first',\n",
    "    'Main Reason 3': 'first',\n",
    "    'Weight (%) Reason 3': 'first',\n",
    "    '620': 'first'\n",
    "})"
   ]
  },
  {
   "cell_type": "code",
   "execution_count": 11,
   "metadata": {},
   "outputs": [],
   "source": [
    "# Merge back 'Old Price', 'Old Price Effective Date', and 'Updated on BPs'\n",
    "grouped_df = grouped_df.merge(old_price_info, on=['Item', 'SUPPLIER NUMBER'], how='left')\n",
    "grouped_df = grouped_df.merge(updated_bps_df, on=['Item', 'SUPPLIER NUMBER'], how='left')"
   ]
  },
  {
   "cell_type": "code",
   "execution_count": 12,
   "metadata": {},
   "outputs": [],
   "source": [
    "# Rename columns\n",
    "grouped_df.rename(columns={\n",
    "    'Item': 'Item Number',\n",
    "    'SUPPLIER DESCRIPTION': 'Supplier Description',\n",
    "    'SUPPLIER NUMBER': 'Supplier Number',\n",
    "    'CURRENCY CODE - FROM': 'Currency',\n",
    "    'UNIT OF MEASURE AS INPUT': 'UoM',\n",
    "    'Effective date': 'Effective Date'\n",
    "}, inplace=True)"
   ]
  },
  {
   "cell_type": "code",
   "execution_count": 13,
   "metadata": {},
   "outputs": [],
   "source": [
    "# Format dates\n",
    "grouped_df['Effective Date'] = pd.to_datetime(grouped_df['Effective Date']).dt.strftime('%d.%m.%Y')\n",
    "grouped_df['Old Price Effective Date'] = pd.to_datetime(grouped_df['Old Price Effective Date']).dt.strftime('%d.%m.%Y')"
   ]
  },
  {
   "cell_type": "code",
   "execution_count": null,
   "metadata": {},
   "outputs": [],
   "source": [
    "# Calculate '% Change'\n",
    "grouped_df['Old Price'] = grouped_df['Old Price'].astype(float).fillna(0.0)\n",
    "grouped_df['% Change'] = grouped_df.apply(\n",
    "    lambda row: ((row['New Price'] - row['Old Price']) / row['Old Price'] * 100) if row['Old Price'] != 0 else 0.0,\n",
    "    axis=1\n",
    ")\n",
    "grouped_df['% Change'] = grouped_df['% Change'].round(2)"
   ]
  },
  {
   "cell_type": "code",
   "execution_count": null,
   "metadata": {},
   "outputs": [],
   "source": [
    "# Replace infinities and NaNs\n",
    "grouped_df.replace([float('inf'), float('-inf'), pd.NA, None], '', inplace=True)"
   ]
  },
  {
   "cell_type": "code",
   "execution_count": null,
   "metadata": {},
   "outputs": [],
   "source": [
    "# Set the order\n",
    "ordered_columns = ['Effective Date', 'Supplier Description', 'Supplier Number', 'Item Number', 'Branch Plant',\n",
    "                   'Updated on BPs', 'New Price', 'Old Price', '% Change', 'UoM', 'Currency',\n",
    "                   'Main Reason 1', 'Weight (%) Reason 1', 'Main Reason 2', 'Weight (%) Reason 2',\n",
    "                   'Main Reason 3', 'Weight (%) Reason 3', 'Old Price Effective Date', '620']\n",
    "final_df = grouped_df[ordered_columns]\n",
    "for col in ['Supplier Number', 'Branch Plant', 'Updated on BPs', 'Item Number', '620']:\n",
    "    final_df[col] = final_df[col].astype(str)"
   ]
  },
  {
   "cell_type": "code",
   "execution_count": 18,
   "metadata": {},
   "outputs": [],
   "source": [
    "# Save to Excel\n",
    "current_datetime = datetime.now().strftime('%Y-%m-%d_%H-%M-%S')\n",
    "output_filename = f'Updated_NewData_{current_datetime}.xlsx'\n",
    "output_path = os.path.join(output_folder_path, output_filename)\n",
    "sheet_name = datetime.now().strftime('%d-%m-%Y')\n",
    "with pd.ExcelWriter(output_path, engine='xlsxwriter') as writer:\n",
    "    final_df.to_excel(writer, sheet_name=sheet_name, index=False)\n",
    "    workbook = writer.book\n",
    "    worksheet = writer.sheets[sheet_name]"
   ]
  },
  {
   "cell_type": "code",
   "execution_count": null,
   "metadata": {},
   "outputs": [
    {
     "name": "stdout",
     "output_type": "stream",
     "text": [
      "Data has been merged and saved to 'C:\\Users\\plmala\\OneDrive - Coloplast A S\\Desktop\\Python\\PPM\\Price Updates (Python)\\0_Price Updates\\New Files\\Updated_NewData_2024-11-02_20-01-23.xlsx'\n"
     ]
    }
   ],
   "source": [
    "# Define formats\n",
    "header_format = workbook.add_format({'bold': True, 'align': 'center', 'border': 1})\n",
    "old_price_header_format = workbook.add_format({'bold': True, 'align': 'center', 'bg_color': '#FFCCCC', 'border': 1})\n",
    "new_price_header_format = workbook.add_format({'bold': True, 'align': 'center', 'bg_color': '#CCFFCC', 'border': 1})\n",
    "grey_header_format = workbook.add_format({'bold': True, 'align': 'center', 'bg_color': '#D3D3D3', 'border': 1})\n",
    "percentage_format = workbook.add_format({'num_format': '0.00', 'align': 'center', 'border': 1})\n",
    "price_format = workbook.add_format({'num_format': '0.0000', 'align': 'center', 'border': 1})\n",
    "cell_format = workbook.add_format({'align': 'center', 'border': 1})\n",
    "\n",
    "# Write headers\n",
    "for col_num, value in enumerate(ordered_columns):\n",
    "    if value == 'Old Price':\n",
    "        worksheet.write(0, col_num, value, old_price_header_format)\n",
    "    elif value == 'New Price':\n",
    "        worksheet.write(0, col_num, value, new_price_header_format)\n",
    "    elif value in ['Updated on BPs', 'Old Price Effective Date', '% Change']:\n",
    "        worksheet.write(0, col_num, value, grey_header_format)\n",
    "    else:\n",
    "        worksheet.write(0, col_num, value, header_format)\n",
    "\n",
    "# Set column widths and formats\n",
    "for i, col in enumerate(ordered_columns):\n",
    "    max_len = max(final_df[col].astype(str).map(len).max(), len(col)) + 2\n",
    "    if col in ['New Price', 'Old Price']:\n",
    "        worksheet.set_column(i, i, max_len, price_format)\n",
    "    elif col == '% Change':\n",
    "        worksheet.set_column(i, i, max_len, percentage_format)\n",
    "    else:\n",
    "        worksheet.set_column(i, i, max_len, cell_format)\n",
    "\n",
    "worksheet.autofilter(0, 0, len(final_df), len(ordered_columns) - 1)\n",
    "\n",
    "print(f\"Data has been merged and saved to '{output_path}'\")"
   ]
  },
  {
   "cell_type": "code",
   "execution_count": 35,
   "metadata": {},
   "outputs": [
    {
     "name": "stdout",
     "output_type": "stream",
     "text": [
      "Manual update file has been created at 'C:\\Users\\plmala\\OneDrive - Coloplast A S\\Desktop\\Python\\PPM\\Price Updates (Python)\\0_Price Updates\\Manual Update\\Manual_Update_2024-11-02_20-01-23.xlsx'\n"
     ]
    }
   ],
   "source": [
    "# Create Manual Update File\n",
    "manual_update_columns = ['Supplier Name', 'Supplier Number', 'Item Number', 'Item Description', 'New price',\n",
    "                         'Item Price Currency', 'Branch Plant', 'Unit of measure', 'Main Reason 1', 'Weight (%) Reason 1',\n",
    "                         'Main Reason 2', 'Weight (%) Reason 2', 'Main Reason 3', 'Weight (%) Reason 3',\n",
    "                         'Out-going Item number', 'Quantity Breaks', 'Project name', 'CM05 BP Currency',\n",
    "                         'Effective date (DDMMYYYY)', 'Update date', 'Item Responsible', 'CM05', 'CM05 BP',\n",
    "                         'Requester', 'Supp No']\n",
    "manual_update_df = pd.DataFrame(columns=manual_update_columns)\n",
    "manual_update_df['Supplier Name'] = final_df['Supplier Description']\n",
    "manual_update_df['Supplier Number'] = final_df['Supplier Number']\n",
    "manual_update_df['Item Number'] = final_df['Item Number']\n",
    "manual_update_df['Item Description'] = ''\n",
    "manual_update_df['New price'] = final_df['New Price']\n",
    "manual_update_df['Item Price Currency'] = final_df['Currency']\n",
    "manual_update_df['Branch Plant'] = final_df['Branch Plant']\n",
    "manual_update_df['Unit of measure'] = final_df['UoM']\n",
    "manual_update_df['Main Reason 1'] = final_df['Main Reason 1']\n",
    "manual_update_df['Weight (%) Reason 1'] = final_df['Weight (%) Reason 1']\n",
    "manual_update_df['Main Reason 2'] = final_df['Main Reason 2']\n",
    "manual_update_df['Weight (%) Reason 2'] = final_df['Weight (%) Reason 2']\n",
    "manual_update_df['Main Reason 3'] = final_df['Main Reason 3']\n",
    "manual_update_df['Weight (%) Reason 3'] = final_df['Weight (%) Reason 3']\n",
    "manual_update_df['Out-going Item number'] = ''\n",
    "manual_update_df['Quantity Breaks'] = ''\n",
    "manual_update_df['Project name'] = ''\n",
    "manual_update_df['CM05 BP Currency'] = ''\n",
    "manual_update_df['Effective date (DDMMYYYY)'] = final_df['Effective Date']\n",
    "manual_update_df['Update date'] = datetime.now().strftime('%d.%m.%Y')\n",
    "manual_update_df['Item Responsible'] = ''\n",
    "manual_update_df['CM05'] = ''\n",
    "manual_update_df['CM05 BP'] = ''\n",
    "manual_update_df['Requester'] = ''\n",
    "manual_update_df['Supp No'] = final_df['620']\n",
    "manual_update_df.replace(0, '', inplace=True)\n",
    "manual_update_df.replace('0', '', inplace=True)\n",
    "manual_update_output_filename = f'Manual_Update_{current_datetime}.xlsx'\n",
    "manual_update_output_path = os.path.join(manual_update_folder_path, manual_update_output_filename)\n",
    "\n",
    "with pd.ExcelWriter(manual_update_output_path, engine='xlsxwriter') as writer:\n",
    "    manual_update_df.to_excel(writer, index=False)\n",
    "    workbook = writer.book\n",
    "    worksheet = writer.sheets['Sheet1']\n",
    "    header_format = workbook.add_format({'bold': True, 'align': 'center', 'border': 1})\n",
    "    price_format = workbook.add_format({'num_format': '0.0000', 'align': 'center'})\n",
    "    date_format = workbook.add_format({'num_format': 'dd.mm.yyyy', 'align': 'center'})\n",
    "    cell_format = workbook.add_format({'align': 'center'})\n",
    "    for col_num, value in enumerate(manual_update_df.columns.values):\n",
    "        worksheet.write(0, col_num, value, header_format)\n",
    "    for col_num, col_name in enumerate(manual_update_df.columns.values):\n",
    "        max_len = max(manual_update_df[col_name].astype(str).map(len).max(), len(col_name)) + 2\n",
    "        if col_name == 'New price':\n",
    "            worksheet.set_column(col_num, col_num, max_len, price_format)\n",
    "        elif col_name in ['Effective date (DDMMYYYY)', 'Update date']:\n",
    "            worksheet.set_column(col_num, col_num, max_len, date_format)\n",
    "        else:\n",
    "            worksheet.set_column(col_num, col_num, max_len, cell_format)\n",
    "\n",
    "    worksheet.autofilter(0, 0, manual_update_df.shape[0], manual_update_df.shape[1] - 1)\n",
    "\n",
    "print(f\"Manual update file has been created at '{manual_update_output_path}'\")"
   ]
  },
  {
   "cell_type": "code",
   "execution_count": 34,
   "metadata": {},
   "outputs": [
    {
     "name": "stdout",
     "output_type": "stream",
     "text": [
      "API template file has been created at 'C:\\Users\\plmala\\OneDrive - Coloplast A S\\Desktop\\Python\\PPM\\Price Updates (Python)\\0_Price Updates\\API Template\\API_Template_2024-11-02_20-01-23.xlsx'\n"
     ]
    }
   ],
   "source": [
    "# Create API Template File\n",
    "api_template_columns = ['Effective date (DDMMYYYY)', 'Supplier Name', 'Supplier Number', 'Item Number',\n",
    "                        'Quantity Breaks', 'New price', 'Item Price Currency', 'Unit of measure', 'Branch Plant',\n",
    "                        'Main Reason 1', 'Weight (%) Reason 1', 'Main Reason 2', 'Weight (%) Reason 2',\n",
    "                        'Main Reason 3', 'Weight (%) Reason 3', 'Out-going Item number', 'Project name',\n",
    "                        'Comments / Notes']\n",
    "api_template_df = pd.DataFrame(columns=api_template_columns)\n",
    "api_template_df['Effective date (DDMMYYYY)'] = final_df['Effective Date']\n",
    "api_template_df['Supplier Name'] = final_df['Supplier Description']\n",
    "api_template_df['Supplier Number'] = final_df['Supplier Number']\n",
    "api_template_df['Item Number'] = final_df['Item Number']\n",
    "api_template_df['Quantity Breaks'] = ''\n",
    "api_template_df['New price'] = final_df['New Price']\n",
    "api_template_df['Item Price Currency'] = final_df['Currency']\n",
    "api_template_df['Unit of measure'] = final_df['UoM']\n",
    "api_template_df['Branch Plant'] = final_df['Branch Plant']\n",
    "api_template_df['Main Reason 1'] = final_df['Main Reason 1']\n",
    "api_template_df['Weight (%) Reason 1'] = final_df['Weight (%) Reason 1']\n",
    "api_template_df['Main Reason 2'] = final_df['Main Reason 2']\n",
    "api_template_df['Weight (%) Reason 2'] = final_df['Weight (%) Reason 2']\n",
    "api_template_df['Main Reason 3'] = final_df['Main Reason 3']\n",
    "api_template_df['Weight (%) Reason 3'] = final_df['Weight (%) Reason 3']\n",
    "api_template_df['Out-going Item number'] = ''\n",
    "api_template_df['Project name'] = ''\n",
    "api_template_df['Comments / Notes'] = ''\n",
    "api_template_df.replace(0, '', inplace=True)\n",
    "api_template_df.replace('0', '', inplace=True)\n",
    "api_template_output_filename = f'API_Template_{current_datetime}.xlsx'\n",
    "api_template_output_path = os.path.join(api_template_folder_path, api_template_output_filename)\n",
    "\n",
    "with pd.ExcelWriter(api_template_output_path, engine='xlsxwriter') as writer:\n",
    "    api_template_df.to_excel(writer, index=False)\n",
    "    workbook = writer.book\n",
    "    worksheet = writer.sheets['Sheet1']\n",
    "    header_format = workbook.add_format({'bold': True, 'align': 'center', 'border': 1})\n",
    "    price_format = workbook.add_format({'num_format': '0.0000', 'align': 'center'})\n",
    "    date_format = workbook.add_format({'num_format': 'dd.mm.yyyy', 'align': 'center'})\n",
    "    cell_format = workbook.add_format({'align': 'center'})\n",
    "\n",
    "    for col_num, value in enumerate(api_template_df.columns.values):\n",
    "        worksheet.write(0, col_num, value, header_format)\n",
    "    for col_num, col_name in enumerate(api_template_df.columns.values):\n",
    "        max_len = max(api_template_df[col_name].astype(str).map(len).max(), len(col_name)) + 2\n",
    "        if col_name == 'New price':\n",
    "            worksheet.set_column(col_num, col_num, max_len, price_format)\n",
    "        elif col_name == 'Effective date (DDMMYYYY)':\n",
    "            worksheet.set_column(col_num, col_num, max_len, date_format)\n",
    "        else:\n",
    "            worksheet.set_column(col_num, col_num, max_len, cell_format)\n",
    "\n",
    "    worksheet.autofilter(0, 0, api_template_df.shape[0], api_template_df.shape[1] - 1)\n",
    "\n",
    "print(f\"API template file has been created at '{api_template_output_path}'\")"
   ]
  },
  {
   "cell_type": "code",
   "execution_count": null,
   "metadata": {},
   "outputs": [
    {
     "name": "stdout",
     "output_type": "stream",
     "text": [
      "Massive upload file has been created at 'C:\\Users\\plmala\\OneDrive - Coloplast A S\\Desktop\\Python\\PPM\\Price Updates (Python)\\0_Price Updates\\Massive Upload\\Massive_Upload_2024-11-02_20-01-23.xlsx'\n"
     ]
    }
   ],
   "source": [
    "# Create Massive Upload File\n",
    "massive_upload_columns = ['Supplier Number', '2nd Item Number', 'Unit Cost', 'Cur Cod',\n",
    "                          'Business Unit', 'UM', 'Effective Date', 'Expired Date',\n",
    "                          'Quantity Ordered', 'Supp No']\n",
    "massive_upload_df = pd.DataFrame(columns=massive_upload_columns)\n",
    "massive_upload_df['Supplier Number'] = final_df['Supplier Number']\n",
    "massive_upload_df['2nd Item Number'] = final_df['Item Number']\n",
    "massive_upload_df['Unit Cost'] = final_df['New Price']\n",
    "massive_upload_df['Cur Cod'] = final_df['Currency']\n",
    "massive_upload_df['Business Unit'] = final_df['Branch Plant']\n",
    "massive_upload_df['UM'] = final_df['UoM']\n",
    "massive_upload_df['Effective Date'] = final_df['Effective Date']\n",
    "massive_upload_df['Expired Date'] = '31.12.2040'\n",
    "massive_upload_df['Quantity Ordered'] = ''\n",
    "massive_upload_df['Supp No'] = final_df['620']\n",
    "massive_upload_df.replace(0, '', inplace=True)\n",
    "massive_upload_df.replace('0', '', inplace=True)\n",
    "massive_upload_output_filename = f'Massive_Upload_{current_datetime}.xlsx'\n",
    "massive_upload_output_path = os.path.join(massive_upload_folder_path, massive_upload_output_filename)\n",
    "\n",
    "with pd.ExcelWriter(massive_upload_output_path, engine='xlsxwriter') as writer:\n",
    "    massive_upload_df.to_excel(writer, index=False)\n",
    "    workbook = writer.book\n",
    "    worksheet = writer.sheets['Sheet1']\n",
    "    header_format = workbook.add_format({'bold': True, 'align': 'center', 'border': 1})\n",
    "    price_format = workbook.add_format({'num_format': '0.0000', 'align': 'center'})\n",
    "    date_format = workbook.add_format({'num_format': 'dd.mm.yyyy', 'align': 'center'})\n",
    "    cell_format = workbook.add_format({'align': 'center'})\n",
    "\n",
    "    for col_num, value in enumerate(massive_upload_df.columns.values):\n",
    "        worksheet.write(0, col_num, value, header_format)\n",
    "    for col_num, col_name in enumerate(massive_upload_df.columns.values):\n",
    "        max_len = max(massive_upload_df[col_name].astype(str).map(len).max(), len(col_name)) + 2\n",
    "        if col_name == 'Unit Cost':\n",
    "            worksheet.set_column(col_num, col_num, max_len, price_format)\n",
    "        elif col_name in ['Effective Date', 'Expired Date']:\n",
    "            worksheet.set_column(col_num, col_num, max_len, date_format)\n",
    "        else:\n",
    "            worksheet.set_column(col_num, col_num, max_len, cell_format)\n",
    "\n",
    "    worksheet.autofilter(0, 0, massive_upload_df.shape[0], massive_upload_df.shape[1] - 1)\n",
    "\n",
    "print(f\"Massive upload file has been created at '{massive_upload_output_path}'\")"
   ]
  }
 ],
 "metadata": {
  "kernelspec": {
   "display_name": "Python 3",
   "language": "python",
   "name": "python3"
  },
  "language_info": {
   "codemirror_mode": {
    "name": "ipython",
    "version": 3
   },
   "file_extension": ".py",
   "mimetype": "text/x-python",
   "name": "python",
   "nbconvert_exporter": "python",
   "pygments_lexer": "ipython3",
   "version": "3.13.0"
  }
 },
 "nbformat": 4,
 "nbformat_minor": 2
}

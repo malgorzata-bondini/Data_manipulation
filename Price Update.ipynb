{
 "cells": [
  {
   "cell_type": "markdown",
   "metadata": {},
   "source": [
    "# Single Updates\n",
    "With seperate rows, UoM disctinction, price difference indication and additional checks (e.g. for doubled updates, different purchasing and primary UoM), along with assigning the proper cost from Item Branch."
   ]
  },
  {
   "cell_type": "code",
   "execution_count": 106,
   "metadata": {},
   "outputs": [],
   "source": [
    "import pandas as pd\n",
    "import os\n",
    "import warnings\n",
    "from datetime import datetime\n",
    "import re\n",
    "from openpyxl import load_workbook\n",
    "from xlsxwriter.utility import xl_rowcol_to_cell, xl_col_to_name"
   ]
  },
  {
   "cell_type": "code",
   "execution_count": 107,
   "metadata": {},
   "outputs": [],
   "source": [
    "warnings.filterwarnings(\"ignore\", category=UserWarning, module='openpyxl')"
   ]
  },
  {
   "cell_type": "code",
   "execution_count": 108,
   "metadata": {},
   "outputs": [],
   "source": [
    "# Paths\n",
    "base_file_path = r''\n",
    "output_folder_path = r''\n",
    "manual_update_folder_path = r''\n",
    "api_template_folder_path = r''\n",
    "massive_upload_folder_path = r''"
   ]
  },
  {
   "cell_type": "code",
   "execution_count": 109,
   "metadata": {},
   "outputs": [],
   "source": [
    "# Error if no file is found\n",
    "if not os.path.exists(base_file_path):\n",
    "    raise FileNotFoundError(f\"Base file not found: {base_file_path}\")"
   ]
  },
  {
   "cell_type": "code",
   "execution_count": null,
   "metadata": {},
   "outputs": [],
   "source": [
    "# Read 'Template'\n",
    "base_file_df = pd.read_excel(\n",
    "    base_file_path,\n",
    "    sheet_name='Template',\n",
    "    dtype={'Item': str},\n",
    "    engine='openpyxl'\n",
    ")\n",
    "# Read 'Hubble data'\n",
    "hubble_data_df = pd.read_excel(\n",
    "    base_file_path,\n",
    "    sheet_name='Hubble data',\n",
    "    dtype={'2ND ITEM NUMBER': str},\n",
    "    engine='openpyxl'\n",
    ")"
   ]
  },
  {
   "cell_type": "code",
   "execution_count": null,
   "metadata": {},
   "outputs": [],
   "source": [
    "# Read 'Hubble data'\n",
    "hubble_data_df = pd.read_excel(\n",
    "    base_file_path,\n",
    "    sheet_name='Hubble data',\n",
    "    dtype={'2ND ITEM NUMBER': str},\n",
    "    engine='openpyxl'\n",
    ")"
   ]
  },
  {
   "cell_type": "code",
   "execution_count": null,
   "metadata": {},
   "outputs": [],
   "source": [
    "# Read 'Item Branch' and 'UoM'\n",
    "wb = load_workbook(base_file_path, keep_vba=True, keep_links=False)\n",
    "\n",
    "def read_sheet_to_df(workbook, sheet_name):\n",
    "    ws = workbook[sheet_name]\n",
    "    data = ws.values\n",
    "    columns = next(data)\n",
    "    data_list = list(data)\n",
    "    return pd.DataFrame(data_list, columns=columns)\n",
    "item_branch_df = read_sheet_to_df(wb, 'Item Branch')\n",
    "uom_df = read_sheet_to_df(wb, 'UoM')"
   ]
  },
  {
   "cell_type": "code",
   "execution_count": 113,
   "metadata": {},
   "outputs": [],
   "source": [
    "# Strip column names of whitespace\n",
    "base_file_df.columns = base_file_df.columns.str.strip()\n",
    "hubble_data_df.columns = hubble_data_df.columns.str.strip()\n",
    "item_branch_df.columns = item_branch_df.columns.str.strip()\n",
    "uom_df.columns = uom_df.columns.str.strip()"
   ]
  },
  {
   "cell_type": "code",
   "execution_count": 114,
   "metadata": {},
   "outputs": [],
   "source": [
    "columns_list = uom_df.columns.tolist()\n",
    "columns_list\n",
    "uom_df = uom_df[['ITEM NUMBER', 'PRIMARY', 'PURCHASING']].drop_duplicates()\n",
    "uom_df.rename(columns={'ITEM NUMBER': 'Item Number'}, inplace=True)"
   ]
  },
  {
   "cell_type": "code",
   "execution_count": 115,
   "metadata": {},
   "outputs": [],
   "source": [
    "# Store column names\n",
    "columns_list = uom_df.columns.tolist()"
   ]
  },
  {
   "cell_type": "code",
   "execution_count": 116,
   "metadata": {},
   "outputs": [],
   "source": [
    "# 'Item Number' is treated as a string\n",
    "uom_df['Item Number'] = uom_df['Item Number'].astype(str).str.strip()\n",
    "uom_df['PRIMARY'] = uom_df['PRIMARY'].astype(str).str.strip().str.upper()\n",
    "uom_df['PURCHASING'] = uom_df['PURCHASING'].astype(str).str.strip().str.upper()\n",
    "\n",
    "# Convert to uppercase strings\n",
    "columns_to_convert = [\n",
    "    'SUPPLIER NUMBER', 'SUPPLIER DESCRIPTION',\n",
    "    'BRANCH PLANT', 'Supplier Number', 'Branch Plant'\n",
    "]"
   ]
  },
  {
   "cell_type": "code",
   "execution_count": 117,
   "metadata": {},
   "outputs": [],
   "source": [
    "def clean_number_col(col_series):\n",
    "    # Convert to string\n",
    "    col_series = col_series.astype(str).str.strip()\n",
    "    def clean_value(x):\n",
    "        x = x.strip()\n",
    "        if x == '' or x.upper() == 'NAN':\n",
    "            return ''\n",
    "        try:\n",
    "            # Convert to float and then to int if possible\n",
    "            f = float(x)\n",
    "            i = int(f)\n",
    "            if f == i:\n",
    "                return str(i)\n",
    "            else:\n",
    "                return str(f)\n",
    "        except ValueError:\n",
    "            return x\n",
    "    return col_series.apply(clean_value)\n",
    "for df in [base_file_df, hubble_data_df, item_branch_df]:\n",
    "    for col in columns_to_convert:\n",
    "        if col in df.columns:\n",
    "            df[col] = clean_number_col(df[col]).str.upper().str.strip()\n",
    "# Retain leading zeros\n",
    "for df in [base_file_df, hubble_data_df, item_branch_df]:\n",
    "    for col in ['Item', 'Item Number', '2ND ITEM NUMBER']:\n",
    "        if col in df.columns:\n",
    "            df[col] = df[col].astype(str).str.upper().str.strip()\n",
    "\n",
    "# Ensure the 'Item' column has only relevant values\n",
    "base_file_df['Item'] = base_file_df['Item'].replace(['NONE', '', 'N/A', 'UNKNOWN', 'NAN'], pd.NA)\n",
    "base_file_df = base_file_df.dropna(subset=['Item'])\n",
    "\n",
    "# Ensure 'New Price' has four decimal places\n",
    "base_file_df['New Price'] = base_file_df['New Price'].astype(str).str.replace(',', '.')\n",
    "base_file_df['New Price'] = pd.to_numeric(base_file_df['New Price'], errors='coerce').round(4)"
   ]
  },
  {
   "cell_type": "code",
   "execution_count": 118,
   "metadata": {},
   "outputs": [],
   "source": [
    "# Fill in if empty - Main Reason 1\n",
    "base_file_df['Main Reason 1'] = base_file_df['Main Reason 1'].fillna('Index Driven')\n",
    "\n",
    "# Weight (%) Reason\n",
    "base_file_df['Weight (%) Reason 1'] = pd.to_numeric(base_file_df['Weight (%) Reason 1'], errors='coerce').fillna(100)\n",
    "base_file_df['Weight (%) Reason 2'] = pd.to_numeric(base_file_df['Weight (%) Reason 2'], errors='coerce').fillna('')\n",
    "base_file_df['Weight (%) Reason 3'] = pd.to_numeric(base_file_df['Weight (%) Reason 3'], errors='coerce').fillna('')\n",
    "\n",
    "# 'Main Reason 2' and 'Main Reason 3'\n",
    "base_file_df['Main Reason 2'] = base_file_df['Main Reason 2'].fillna('')\n",
    "base_file_df['Main Reason 3'] = base_file_df['Main Reason 3'].fillna('')"
   ]
  },
  {
   "cell_type": "code",
   "execution_count": 119,
   "metadata": {},
   "outputs": [],
   "source": [
    "# 'Effective date' column\n",
    "if 'Effective date' in base_file_df.columns:\n",
    "    base_file_df['Effective date'] = pd.to_datetime(base_file_df['Effective date'], format='%d.%m.%Y', errors='coerce')\n",
    "\n",
    "# 'AMOUNT - UNIT COST' to float and 'DATE - EFFECTIVE' to datetime\n",
    "def extract_numbers(x):\n",
    "    nums = re.findall(r\"[-+]?\\d*\\.\\d+|\\d+\", str(x).replace(',', '.'))\n",
    "    return round(float(nums[0]), 4) if nums else 0.0000\n",
    "\n",
    "hubble_data_df['AMOUNT - UNIT COST'] = hubble_data_df['AMOUNT - UNIT COST'].apply(extract_numbers)\n",
    "hubble_data_df['DATE - EFFECTIVE'] = pd.to_datetime(hubble_data_df['DATE - EFFECTIVE'], format='%d.%m.%Y', errors='coerce')"
   ]
  },
  {
   "cell_type": "code",
   "execution_count": 120,
   "metadata": {},
   "outputs": [],
   "source": [
    "# Merge 'Item' and '2ND ITEM NUMBER'\n",
    "merged_df = pd.merge(base_file_df, hubble_data_df, left_on='Item', right_on='2ND ITEM NUMBER', how='left')"
   ]
  },
  {
   "cell_type": "code",
   "execution_count": 121,
   "metadata": {},
   "outputs": [
    {
     "name": "stdout",
     "output_type": "stream",
     "text": [
      "All items found\n"
     ]
    }
   ],
   "source": [
    "# Debug\n",
    "unmatched_items = merged_df[merged_df['2ND ITEM NUMBER'].isna()]['Item'].unique()\n",
    "if unmatched_items.size > 0:\n",
    "    print(\"Items not found:\")\n",
    "    print(unmatched_items)\n",
    "else:\n",
    "    print(\"All items found\")"
   ]
  },
  {
   "cell_type": "code",
   "execution_count": 122,
   "metadata": {},
   "outputs": [],
   "source": [
    "# Handle missing values\n",
    "merged_df['AMOUNT - UNIT COST'] = merged_df['AMOUNT - UNIT COST'].fillna(0.0)\n",
    "merged_df['DATE - EFFECTIVE'] = merged_df['DATE - EFFECTIVE'].fillna(pd.NaT)"
   ]
  },
  {
   "cell_type": "code",
   "execution_count": 123,
   "metadata": {},
   "outputs": [],
   "source": [
    "# Item Branch\n",
    "item_branch_df = item_branch_df[['SUPPLIER NUMBER', 'ITEM NUMBER', 'BRANCH PLANT']]\n",
    "item_branch_df.columns = ['Supplier Number', 'Item Number', 'Branch Plant']\n",
    "item_branch_df = item_branch_df.apply(lambda x: x.str.strip())\n",
    "\n",
    "# Item Number' as string\n",
    "item_branch_df['Item Number'] = item_branch_df['Item Number'].astype(str).str.upper().str.strip()\n",
    "\n",
    "# Map the columns\n",
    "merged_df['Supplier Number'] = merged_df['SUPPLIER NUMBER'].str.strip()\n",
    "merged_df['Item Number'] = merged_df['Item'].astype(str).str.strip()\n",
    "merged_df['Branch Plant'] = merged_df['BRANCH PLANT'].str.strip()\n",
    "\n",
    "# Merge\n",
    "key_cols = ['Supplier Number', 'Item Number', 'Branch Plant']\n",
    "merged_df = pd.merge(\n",
    "    merged_df,\n",
    "    item_branch_df.drop_duplicates(subset=key_cols),\n",
    "    on=key_cols,\n",
    "    how='left',\n",
    "    indicator=True\n",
    ")"
   ]
  },
  {
   "cell_type": "code",
   "execution_count": 124,
   "metadata": {},
   "outputs": [],
   "source": [
    "# '620' column\n",
    "merged_df['620'] = ''\n",
    "\n",
    "# BP prefixes\n",
    "branch_prefixes = ['790', '620', '110', '490', '351', '711']\n",
    "\n",
    "def assign_620(df):\n",
    "    grouped = df.groupby(['Supplier Number', 'Item Number'])\n",
    "    for (supplier_number, item_number), group in grouped:\n",
    "        for prefix in branch_prefixes:\n",
    "            matches = group[\n",
    "                group['Branch Plant'].str.startswith(prefix) &\n",
    "                (group['_merge'] == 'both')\n",
    "            ]\n",
    "            if not matches.empty:\n",
    "                # Assign '620' randomly to the matching row\n",
    "                selected_index = matches.index[0]\n",
    "                df.at[selected_index, '620'] = '620'\n",
    "                break\n",
    "    return df\n",
    "\n",
    "merged_df = assign_620(merged_df)\n",
    "merged_df.drop(columns=['_merge'], inplace=True)"
   ]
  },
  {
   "cell_type": "code",
   "execution_count": 125,
   "metadata": {},
   "outputs": [],
   "source": [
    "# If price is zero, leave blank\n",
    "merged_df['Updated on BP'] = merged_df.apply(lambda row: row['Branch Plant'] if row['AMOUNT - UNIT COST'] != 0 else '', axis=1)\n",
    "\n",
    "# Get 'Old Price' by selecting the last effective date\n",
    "old_price_info = merged_df.dropna(subset=['DATE - EFFECTIVE']).sort_values('DATE - EFFECTIVE').groupby(['Item', 'SUPPLIER NUMBER', 'Branch Plant']).agg({\n",
    "    'AMOUNT - UNIT COST': 'last',\n",
    "    'DATE - EFFECTIVE': 'last'\n",
    "}).reset_index()\n",
    "old_price_info.rename(columns={\n",
    "    'AMOUNT - UNIT COST': 'Old Price',\n",
    "    'DATE - EFFECTIVE': 'Old Price Effective Date'\n",
    "}, inplace=True)"
   ]
  },
  {
   "cell_type": "code",
   "execution_count": 126,
   "metadata": {},
   "outputs": [],
   "source": [
    "# Aggregate ithout combining BPs\n",
    "grouped_df = merged_df.groupby(['Item', 'SUPPLIER NUMBER', 'Branch Plant'], as_index=False).agg({\n",
    "    'New Price': 'first',\n",
    "    'CURRENCY CODE - FROM': 'first',\n",
    "    'SUPPLIER DESCRIPTION': 'first',\n",
    "    'UNIT OF MEASURE AS INPUT': 'first',\n",
    "    'Effective date': 'first',\n",
    "    'Main Reason 1': 'first',\n",
    "    'Weight (%) Reason 1': 'first',\n",
    "    'Main Reason 2': 'first',\n",
    "    'Weight (%) Reason 2': 'first',\n",
    "    'Main Reason 3': 'first',\n",
    "    'Weight (%) Reason 3': 'first',\n",
    "    '620': 'first',\n",
    "    'Updated on BP': 'first'\n",
    "})"
   ]
  },
  {
   "cell_type": "code",
   "execution_count": 127,
   "metadata": {},
   "outputs": [],
   "source": [
    "# Merge'Old Price' and 'Old Price Effective Date'\n",
    "grouped_df = grouped_df.merge(old_price_info, on=['Item', 'SUPPLIER NUMBER', 'Branch Plant'], how='left')"
   ]
  },
  {
   "cell_type": "code",
   "execution_count": 128,
   "metadata": {},
   "outputs": [],
   "source": [
    "# Rename columns\n",
    "grouped_df.rename(columns={\n",
    "    'Item': 'Item Number',\n",
    "    'SUPPLIER DESCRIPTION': 'Supplier Description',\n",
    "    'SUPPLIER NUMBER': 'Supplier Number',\n",
    "    'CURRENCY CODE - FROM': 'Currency',\n",
    "    'UNIT OF MEASURE AS INPUT': 'UoM',\n",
    "    'Effective date': 'Effective Date'\n",
    "}, inplace=True)"
   ]
  },
  {
   "cell_type": "code",
   "execution_count": 129,
   "metadata": {},
   "outputs": [],
   "source": [
    "# Format dates\n",
    "def format_date(x):\n",
    "    if pd.isnull(x):\n",
    "        return ''\n",
    "    else:\n",
    "        return x.strftime('%d.%m.%Y')\n",
    "grouped_df['Effective Date'] = grouped_df['Effective Date'].apply(format_date)\n",
    "grouped_df['Old Price Effective Date'] = grouped_df['Old Price Effective Date'].apply(format_date)\n"
   ]
  },
  {
   "cell_type": "code",
   "execution_count": 130,
   "metadata": {},
   "outputs": [],
   "source": [
    "# Column '% Change'\n",
    "grouped_df['Old Price'] = grouped_df['Old Price'].astype(float).fillna(0.0)\n",
    "grouped_df['% Change'] = grouped_df.apply(\n",
    "    lambda row: ((row['New Price'] - row['Old Price']) / row['Old Price'] * 100) if row['Old Price'] != 0 else 0.0,\n",
    "    axis=1\n",
    ")\n",
    "grouped_df['% Change'] = grouped_df['% Change'].round(2)\n",
    "\n",
    "# Replace NaNs with empty strings\n",
    "grouped_df.replace([float('inf'), float('-inf'), pd.NA, None], '', inplace=True)\n",
    "\n",
    "# Merge 'PRIMARY' and 'PURCHASING' from uom\n",
    "grouped_df = pd.merge(grouped_df, uom_df, on='Item Number', how='left')"
   ]
  },
  {
   "cell_type": "code",
   "execution_count": 131,
   "metadata": {},
   "outputs": [],
   "source": [
    "# Set the order of columns\n",
    "ordered_columns = ['Effective Date', 'Supplier Description', 'Supplier Number', 'Item Number', 'Branch Plant',\n",
    "                   'Updated on BP', 'New Price', 'Old Price', '% Change', 'UoM', 'Currency',\n",
    "                   'Main Reason 1', 'Weight (%) Reason 1', 'Main Reason 2', 'Weight (%) Reason 2',\n",
    "                   'Main Reason 3', 'Weight (%) Reason 3', 'Old Price Effective Date', '620',\n",
    "                   'PRIMARY', 'PURCHASING']  # Added new columns here\n",
    "\n",
    "final_df = grouped_df[ordered_columns].copy()\n",
    "\n",
    "for col in ['Supplier Number', 'Branch Plant', '620', 'PRIMARY', 'PURCHASING']:\n",
    "    final_df[col] = clean_number_col(final_df[col])\n",
    "\n",
    "# 'Item Number' as a string (keeping zeros in front)\n",
    "final_df['Item Number'] = final_df['Item Number'].astype(str).str.strip()"
   ]
  },
  {
   "cell_type": "code",
   "execution_count": 132,
   "metadata": {},
   "outputs": [],
   "source": [
    "# Save to Excel\n",
    "current_datetime = datetime.now().strftime('%Y-%m-%d_%H-%M-%S')\n",
    "output_filename = f'Updated_NewData_{current_datetime}.xlsx'\n",
    "output_path = os.path.join(output_folder_path, output_filename)\n",
    "sheet_name = datetime.now().strftime('%d-%m-%Y')"
   ]
  },
  {
   "cell_type": "code",
   "execution_count": 133,
   "metadata": {},
   "outputs": [],
   "source": [
    "with pd.ExcelWriter(output_path, engine='xlsxwriter') as writer:\n",
    "    final_df.to_excel(writer, sheet_name=sheet_name, index=False)\n",
    "    workbook = writer.book\n",
    "    worksheet = writer.sheets[sheet_name]\n",
    "    \n",
    "    # Formatting\n",
    "    header_format = workbook.add_format({'bold': True, 'align': 'center', 'border': 1})\n",
    "    old_price_header_format = workbook.add_format({'bold': True, 'align': 'center', 'bg_color': '#FFCCCC', 'border': 1})  # Red background\n",
    "    new_price_header_format = workbook.add_format({'bold': True, 'align': 'center', 'bg_color': '#CCFFCC', 'border': 1})  # Green background\n",
    "    grey_header_format = workbook.add_format({'bold': True, 'align': 'center', 'bg_color': '#D3D3D3', 'border': 1})\n",
    "    percentage_format = workbook.add_format({'num_format': '0.00', 'align': 'center', 'border': 1})\n",
    "    price_format = workbook.add_format({'num_format': '0.0000', 'align': 'center', 'border': 1})\n",
    "    cell_format = workbook.add_format({'align': 'center', 'border': 1})\n",
    "    green_font_format = workbook.add_format({'font_color': '#006100'})  # Green font\n",
    "    red_font_format = workbook.add_format({'font_color': 'red'})  # Red font\n",
    "    \n",
    "    # Headers\n",
    "    for col_num, value in enumerate(ordered_columns):\n",
    "        if value == 'Old Price':\n",
    "            worksheet.write(0, col_num, value, old_price_header_format)\n",
    "        elif value == 'New Price':\n",
    "            worksheet.write(0, col_num, value, new_price_header_format)\n",
    "        elif value in ['Updated on BP', 'Old Price Effective Date', '% Change']:\n",
    "            worksheet.write(0, col_num, value, grey_header_format)\n",
    "        else:\n",
    "            worksheet.write(0, col_num, value, header_format)\n",
    "    \n",
    "    # Set column width\n",
    "    for i, col in enumerate(ordered_columns):\n",
    "        max_len = max(final_df[col].astype(str).map(len).max(), len(col)) + 2\n",
    "        if col in ['New Price', 'Old Price']:\n",
    "            worksheet.set_column(i, i, max_len, price_format)\n",
    "        elif col == '% Change':\n",
    "            worksheet.set_column(i, i, max_len, percentage_format)\n",
    "        else:\n",
    "            worksheet.set_column(i, i, max_len, cell_format)\n",
    "    \n",
    "    # Conditional formatting\n",
    "    worksheet.conditional_format(1, ordered_columns.index('New Price'), len(final_df), ordered_columns.index('New Price'), {\n",
    "        'type': 'formula',\n",
    "        'criteria': f'=${xl_col_to_name(ordered_columns.index(\"New Price\"))}2=${xl_col_to_name(ordered_columns.index(\"Old Price\"))}2',\n",
    "        'format': green_font_format\n",
    "    })\n",
    "    worksheet.conditional_format(1, ordered_columns.index('Old Price'), len(final_df), ordered_columns.index('Old Price'), {\n",
    "        'type': 'formula',\n",
    "        'criteria': f'=${xl_col_to_name(ordered_columns.index(\"New Price\"))}2=${xl_col_to_name(ordered_columns.index(\"Old Price\"))}2',\n",
    "        'format': green_font_format\n",
    "    })\n",
    "    \n",
    "    item_number_col = ordered_columns.index('Item Number')\n",
    "    purchasing_col = ordered_columns.index('PURCHASING')\n",
    "    primary_col = ordered_columns.index('PRIMARY')\n",
    "    \n",
    "    worksheet.conditional_format(1, item_number_col, len(final_df), item_number_col, {\n",
    "        'type': 'formula',\n",
    "        'criteria': f'=${xl_col_to_name(purchasing_col)}2<>${xl_col_to_name(primary_col)}2',\n",
    "        'format': red_font_format\n",
    "    })\n",
    "    \n",
    "    worksheet.autofilter(0, 0, len(final_df), len(ordered_columns) - 1)"
   ]
  },
  {
   "cell_type": "code",
   "execution_count": 146,
   "metadata": {},
   "outputs": [
    {
     "name": "stdout",
     "output_type": "stream",
     "text": [
      "Data has been merged and saved: ''\n"
     ]
    }
   ],
   "source": [
    "# Final \n",
    "print(f\"Data has been merged and saved: '{output_path}'\")"
   ]
  },
  {
   "cell_type": "code",
   "execution_count": null,
   "metadata": {},
   "outputs": [
    {
     "name": "stdout",
     "output_type": "stream",
     "text": [
      "Manual update file has been created here: ''\n"
     ]
    }
   ],
   "source": [
    "# Create Manual Update File\n",
    "\n",
    "manual_update_columns = ['Supplier Name', 'Supplier Number', 'Item Number', 'Item Description', 'New price',\n",
    "                         'Item Price Currency', 'Branch Plant', 'Unit of measure', 'Main Reason 1', 'Weight (%) Reason 1',\n",
    "                         'Main Reason 2', 'Weight (%) Reason 2', 'Main Reason 3', 'Weight (%) Reason 3',\n",
    "                         'Out-going Item number', 'Quantity Breaks', 'Project name', 'CM05 BP Currency',\n",
    "                         'Effective date (DDMMYYYY)', 'Update date', 'Item Responsible', 'CM05', 'CM05 BP',\n",
    "                         'Requester', 'Supp No']\n",
    "\n",
    "manual_update_df = pd.DataFrame(columns=manual_update_columns)\n",
    "manual_update_df['Supplier Name'] = final_df['Supplier Description']\n",
    "manual_update_df['Supplier Number'] = final_df['Supplier Number']\n",
    "manual_update_df['Item Number'] = final_df['Item Number']\n",
    "manual_update_df['Item Description'] = ''\n",
    "manual_update_df['New price'] = final_df['New Price']\n",
    "manual_update_df['Item Price Currency'] = final_df['Currency']\n",
    "manual_update_df['Branch Plant'] = final_df['Branch Plant']\n",
    "manual_update_df['Unit of measure'] = final_df['UoM']\n",
    "manual_update_df['Main Reason 1'] = final_df['Main Reason 1']\n",
    "manual_update_df['Weight (%) Reason 1'] = final_df['Weight (%) Reason 1']\n",
    "manual_update_df['Main Reason 2'] = final_df['Main Reason 2']\n",
    "manual_update_df['Weight (%) Reason 2'] = final_df['Weight (%) Reason 2']\n",
    "manual_update_df['Main Reason 3'] = final_df['Main Reason 3']\n",
    "manual_update_df['Weight (%) Reason 3'] = final_df['Weight (%) Reason 3']\n",
    "manual_update_df['Out-going Item number'] = ''\n",
    "manual_update_df['Quantity Breaks'] = ''\n",
    "manual_update_df['Project name'] = ''\n",
    "manual_update_df['CM05 BP Currency'] = ''\n",
    "manual_update_df['Effective date (DDMMYYYY)'] = final_df['Effective Date']\n",
    "manual_update_df['Update date'] = datetime.now().strftime('%d.%m.%Y')\n",
    "manual_update_df['Item Responsible'] = ''\n",
    "manual_update_df['CM05'] = ''\n",
    "manual_update_df['CM05 BP'] = ''\n",
    "manual_update_df['Requester'] = ''\n",
    "manual_update_df['Supp No'] = final_df['620']\n",
    "manual_update_df.replace(0, '', inplace=True)\n",
    "manual_update_df.replace('0', '', inplace=True)\n",
    "manual_update_output_filename = f'Manual_Update_{current_datetime}.xlsx'\n",
    "manual_update_output_path = os.path.join(manual_update_folder_path, manual_update_output_filename)\n",
    "\n",
    "#Sheet name \"MUT\" - Manual Upload Template\n",
    "with pd.ExcelWriter(manual_update_output_path, engine='xlsxwriter') as writer:\n",
    "    manual_update_df.to_excel(writer, index=False, sheet_name='MUT')\n",
    "    workbook = writer.book\n",
    "    worksheet = writer.sheets['MUT']\n",
    "\n",
    "    # Formats\n",
    "    header_format = workbook.add_format({'bold': True, 'align': 'center', 'border': 1})\n",
    "    price_format = workbook.add_format({'num_format': '0.0000', 'align': 'center','border': 1})\n",
    "    date_format = workbook.add_format({'num_format': 'dd.mm.yyyy', 'align': 'center', 'border': 1})\n",
    "    cell_format = workbook.add_format({'align': 'center', 'border': 1})\n",
    "    \n",
    "    for col_num, value in enumerate(manual_update_df.columns.values):\n",
    "        worksheet.write(0, col_num, value, header_format)\n",
    "    for col_num, col_name in enumerate(manual_update_df.columns.values):\n",
    "        max_len = max(manual_update_df[col_name].astype(str).map(len).max(), len(col_name)) + 2\n",
    "        if col_name == 'New price':\n",
    "            worksheet.set_column(col_num, col_num, max_len, price_format)\n",
    "        elif col_name in ['Effective date (DDMMYYYY)', 'Update date']:\n",
    "            worksheet.set_column(col_num, col_num, max_len, date_format)\n",
    "        else:\n",
    "            worksheet.set_column(col_num, col_num, max_len, cell_format)\n",
    "    worksheet.autofilter(0, 0, manual_update_df.shape[0], manual_update_df.shape[1] - 1)\n",
    "\n",
    "print(f\"Manual update file has been created: '{manual_update_output_path}'\")"
   ]
  },
  {
   "cell_type": "code",
   "execution_count": null,
   "metadata": {},
   "outputs": [
    {
     "name": "stdout",
     "output_type": "stream",
     "text": [
      "API template file has been created at ''\n"
     ]
    }
   ],
   "source": [
    "# Create API template file\n",
    "\n",
    "api_template_columns = ['Effective date (DDMMYYYY)', 'Supplier Name', 'Supplier Number', 'Item Number',\n",
    "                        'Quantity Breaks', 'New price', 'Item Price Currency', 'Unit of measure', 'Branch Plant',\n",
    "                        'Main Reason 1', 'Weight (%) Reason 1', 'Main Reason 2', 'Weight (%) Reason 2',\n",
    "                        'Main Reason 3', 'Weight (%) Reason 3', 'Out-going Item number', 'Project name',\n",
    "                        'Comments / Notes']\n",
    "\n",
    "api_template_df = pd.DataFrame(columns=api_template_columns)\n",
    "api_template_df['Effective date (DDMMYYYY)'] = final_df['Effective Date']\n",
    "api_template_df['Supplier Name'] = final_df['Supplier Description']\n",
    "api_template_df['Supplier Number'] = final_df['Supplier Number']\n",
    "api_template_df['Item Number'] = final_df['Item Number']\n",
    "api_template_df['Quantity Breaks'] = ''\n",
    "api_template_df['New price'] = final_df['New Price']\n",
    "api_template_df['Item Price Currency'] = final_df['Currency']\n",
    "api_template_df['Unit of measure'] = final_df['UoM']\n",
    "api_template_df['Branch Plant'] = final_df['Branch Plant']\n",
    "api_template_df['Main Reason 1'] = final_df['Main Reason 1']\n",
    "api_template_df['Weight (%) Reason 1'] = final_df['Weight (%) Reason 1']\n",
    "api_template_df['Main Reason 2'] = final_df['Main Reason 2']\n",
    "api_template_df['Weight (%) Reason 2'] = final_df['Weight (%) Reason 2']\n",
    "api_template_df['Main Reason 3'] = final_df['Main Reason 3']\n",
    "api_template_df['Weight (%) Reason 3'] = final_df['Weight (%) Reason 3']\n",
    "api_template_df['Out-going Item number'] = ''\n",
    "api_template_df['Project name'] = ''\n",
    "api_template_df['Comments / Notes'] = ''\n",
    "api_template_df.replace(0, '', inplace=True)\n",
    "api_template_df.replace('0', '', inplace=True)\n",
    "api_template_output_filename = f'API_Template_{current_datetime}.xlsx'\n",
    "api_template_output_path = os.path.join(api_template_folder_path, api_template_output_filename)\n",
    "\n",
    "with pd.ExcelWriter(api_template_output_path, engine='xlsxwriter') as writer:\n",
    "    api_template_df.to_excel(writer, index=False, sheet_name='API')\n",
    "    workbook = writer.book\n",
    "    worksheet = writer.sheets['API']\n",
    "\n",
    "    header_format = workbook.add_format({'bold': True, 'align': 'center', 'border': 1})\n",
    "    price_format = workbook.add_format({'num_format': '0.0000', 'align': 'center', 'border': 1})\n",
    "    date_format = workbook.add_format({'num_format': 'dd.mm.yyyy', 'align': 'center', 'border': 1})\n",
    "    cell_format = workbook.add_format({'align': 'center', 'border': 1})\n",
    "\n",
    "    for col_num, value in enumerate(api_template_df.columns.values):\n",
    "        worksheet.write(0, col_num, value, header_format)\n",
    "    for col_num, col_name in enumerate(api_template_df.columns.values):\n",
    "        max_len = max(api_template_df[col_name].astype(str).map(len).max(), len(col_name)) + 2\n",
    "        if col_name == 'New price':\n",
    "            worksheet.set_column(col_num, col_num, max_len, price_format)\n",
    "        elif col_name == 'Effective date (DDMMYYYY)':\n",
    "            worksheet.set_column(col_num, col_num, max_len, date_format)\n",
    "        else:\n",
    "            worksheet.set_column(col_num, col_num, max_len, cell_format)\n",
    "\n",
    "    worksheet.autofilter(0, 0, api_template_df.shape[0], api_template_df.shape[1] - 1)\n",
    "\n",
    "print(f\"API template file has been created: '{api_template_output_path}'\")"
   ]
  },
  {
   "cell_type": "code",
   "execution_count": null,
   "metadata": {},
   "outputs": [
    {
     "name": "stdout",
     "output_type": "stream",
     "text": [
      "Massive upload file has been created at ''\n"
     ]
    }
   ],
   "source": [
    "# Create Massive Upload File\n",
    "\n",
    "massive_upload_columns = ['Supplier Number', '2nd Item Number', 'Unit Cost', 'Cur Cod',\n",
    "                          'Business Unit', 'UM', 'Effective Date', 'Expired Date',\n",
    "                          'Quantity Ordered', 'Supp No']\n",
    "massive_upload_df = pd.DataFrame(columns=massive_upload_columns)\n",
    "massive_upload_df['Supplier Number'] = final_df['Supplier Number']\n",
    "massive_upload_df['2nd Item Number'] = final_df['Item Number']\n",
    "massive_upload_df['Unit Cost'] = final_df['New Price']\n",
    "massive_upload_df['Cur Cod'] = final_df['Currency']\n",
    "massive_upload_df['Business Unit'] = final_df['Branch Plant']\n",
    "massive_upload_df['UM'] = final_df['UoM']\n",
    "massive_upload_df['Effective Date'] = final_df['Effective Date']\n",
    "# '31.12.2040'\n",
    "massive_upload_df['Expired Date'] = '31.12.2040'\n",
    "massive_upload_df['Quantity Ordered'] = ''\n",
    "massive_upload_df['Supp No'] = final_df['620']\n",
    "massive_upload_df.replace(0, '', inplace=True)\n",
    "massive_upload_df.replace('0', '', inplace=True)\n",
    "massive_upload_output_filename = f'Massive_Upload_{current_datetime}.xlsx'\n",
    "massive_upload_output_path = os.path.join(massive_upload_folder_path, massive_upload_output_filename)\n",
    "\n",
    "with pd.ExcelWriter(massive_upload_output_path, engine='xlsxwriter') as writer:\n",
    "    massive_upload_df.to_excel(writer, index=False, sheet_name='MU')\n",
    "    workbook = writer.book\n",
    "    worksheet = writer.sheets['MU']\n",
    "    \n",
    "    header_format = workbook.add_format({'bold': True, 'align': 'center', 'border': 1})\n",
    "    price_format = workbook.add_format({'num_format': '0.0000', 'align': 'center', 'border': 1})\n",
    "    date_format = workbook.add_format({'num_format': 'dd.mm.yyyy', 'align': 'center','border': 1})\n",
    "    cell_format = workbook.add_format({'align': 'center', 'border': 1})\n",
    "    for col_num, value in enumerate(massive_upload_df.columns.values):\n",
    "        worksheet.write(0, col_num, value, header_format)\n",
    "    for col_num, col_name in enumerate(massive_upload_df.columns.values):\n",
    "        max_len = max(massive_upload_df[col_name].astype(str).map(len).max(), len(col_name)) + 2\n",
    "        if col_name == 'Unit Cost':\n",
    "            worksheet.set_column(col_num, col_num, max_len, price_format)\n",
    "        elif col_name in ['Effective Date', 'Expired Date']:\n",
    "            worksheet.set_column(col_num, col_num, max_len, date_format)\n",
    "        else:\n",
    "            worksheet.set_column(col_num, col_num, max_len, cell_format)\n",
    "\n",
    "    worksheet.autofilter(0, 0, massive_upload_df.shape[0], massive_upload_df.shape[1] - 1)\n",
    "\n",
    "print(f\"Massive upload file has been created: '{massive_upload_output_path}'\")"
   ]
  }
 ],
 "metadata": {
  "kernelspec": {
   "display_name": "Python 3",
   "language": "python",
   "name": "python3"
  },
  "language_info": {
   "codemirror_mode": {
    "name": "ipython",
    "version": 3
   },
   "file_extension": ".py",
   "mimetype": "text/x-python",
   "name": "python",
   "nbconvert_exporter": "python",
   "pygments_lexer": "ipython3",
   "version": "3.13.0"
  }
 },
 "nbformat": 4,
 "nbformat_minor": 2
}
